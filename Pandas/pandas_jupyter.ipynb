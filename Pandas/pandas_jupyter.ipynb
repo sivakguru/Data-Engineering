{
 "cells": [
  {
   "cell_type": "markdown",
   "metadata": {},
   "source": [
    "## *Getting started*\n",
    "---"
   ]
  },
  {
   "cell_type": "code",
   "execution_count": 1,
   "metadata": {},
   "outputs": [],
   "source": [
    "# pandas package for data exploration\n",
    "import pandas as pd"
   ]
  },
  {
   "cell_type": "code",
   "execution_count": 2,
   "metadata": {},
   "outputs": [],
   "source": [
    "#load CSV file as a data frame\n",
    "# a data frame is a 2 dimensional object (simply rows and columns)\n",
    "sr_df = pd.read_csv('C:\\\\Users\\\\sivkumar\\\\Documents\\\\Study Materials\\\\Data\\\\developer_survey_2019\\\\survey_results_public.csv', header='infer', sep=',')"
   ]
  },
  {
   "cell_type": "code",
   "execution_count": 3,
   "metadata": {},
   "outputs": [
    {
     "output_type": "execute_result",
     "data": {
      "text/plain": "   Respondent                                         MainBranch Hobbyist  \\\n0           1             I am a student who is learning to code      Yes   \n1           2             I am a student who is learning to code       No   \n2           3  I am not primarily a developer, but I write co...      Yes   \n3           4                     I am a developer by profession       No   \n4           5                     I am a developer by profession      Yes   \n\n                  OpenSourcer  \\\n0                       Never   \n1     Less than once per year   \n2                       Never   \n3                       Never   \n4  Once a month or more often   \n\n                                          OpenSource  \\\n0  The quality of OSS and closed source software ...   \n1  The quality of OSS and closed source software ...   \n2  The quality of OSS and closed source software ...   \n3  The quality of OSS and closed source software ...   \n4  OSS is, on average, of HIGHER quality than pro...   \n\n                               Employment                 Country  \\\n0  Not employed, and not looking for work          United Kingdom   \n1      Not employed, but looking for work  Bosnia and Herzegovina   \n2                      Employed full-time                Thailand   \n3                      Employed full-time           United States   \n4                      Employed full-time                 Ukraine   \n\n          Student                                            EdLevel  \\\n0              No                          Primary/elementary school   \n1  Yes, full-time  Secondary school (e.g. American high school, G...   \n2              No           Bachelor’s degree (BA, BS, B.Eng., etc.)   \n3              No           Bachelor’s degree (BA, BS, B.Eng., etc.)   \n4              No           Bachelor’s degree (BA, BS, B.Eng., etc.)   \n\n                                      UndergradMajor  ...  \\\n0                                                NaN  ...   \n1                                                NaN  ...   \n2                      Web development or web design  ...   \n3  Computer science, computer engineering, or sof...  ...   \n4  Computer science, computer engineering, or sof...  ...   \n\n                             WelcomeChange  \\\n0  Just as welcome now as I felt last year   \n1  Just as welcome now as I felt last year   \n2  Just as welcome now as I felt last year   \n3  Just as welcome now as I felt last year   \n4  Just as welcome now as I felt last year   \n\n                                        SONewContent   Age Gender Trans  \\\n0  Tech articles written by other developers;Indu...  14.0    Man    No   \n1  Tech articles written by other developers;Indu...  19.0    Man    No   \n2  Tech meetups or events in your area;Courses on...  28.0    Man    No   \n3  Tech articles written by other developers;Indu...  22.0    Man    No   \n4  Tech meetups or events in your area;Courses on...  30.0    Man    No   \n\n                 Sexuality                                 Ethnicity  \\\n0  Straight / Heterosexual                                       NaN   \n1  Straight / Heterosexual                                       NaN   \n2  Straight / Heterosexual                                       NaN   \n3  Straight / Heterosexual              White or of European descent   \n4  Straight / Heterosexual  White or of European descent;Multiracial   \n\n  Dependents           SurveyLength                  SurveyEase  \n0         No  Appropriate in length  Neither easy nor difficult  \n1         No  Appropriate in length  Neither easy nor difficult  \n2        Yes  Appropriate in length  Neither easy nor difficult  \n3         No  Appropriate in length                        Easy  \n4         No  Appropriate in length                        Easy  \n\n[5 rows x 85 columns]",
      "text/html": "<div>\n<style scoped>\n    .dataframe tbody tr th:only-of-type {\n        vertical-align: middle;\n    }\n\n    .dataframe tbody tr th {\n        vertical-align: top;\n    }\n\n    .dataframe thead th {\n        text-align: right;\n    }\n</style>\n<table border=\"1\" class=\"dataframe\">\n  <thead>\n    <tr style=\"text-align: right;\">\n      <th></th>\n      <th>Respondent</th>\n      <th>MainBranch</th>\n      <th>Hobbyist</th>\n      <th>OpenSourcer</th>\n      <th>OpenSource</th>\n      <th>Employment</th>\n      <th>Country</th>\n      <th>Student</th>\n      <th>EdLevel</th>\n      <th>UndergradMajor</th>\n      <th>...</th>\n      <th>WelcomeChange</th>\n      <th>SONewContent</th>\n      <th>Age</th>\n      <th>Gender</th>\n      <th>Trans</th>\n      <th>Sexuality</th>\n      <th>Ethnicity</th>\n      <th>Dependents</th>\n      <th>SurveyLength</th>\n      <th>SurveyEase</th>\n    </tr>\n  </thead>\n  <tbody>\n    <tr>\n      <th>0</th>\n      <td>1</td>\n      <td>I am a student who is learning to code</td>\n      <td>Yes</td>\n      <td>Never</td>\n      <td>The quality of OSS and closed source software ...</td>\n      <td>Not employed, and not looking for work</td>\n      <td>United Kingdom</td>\n      <td>No</td>\n      <td>Primary/elementary school</td>\n      <td>NaN</td>\n      <td>...</td>\n      <td>Just as welcome now as I felt last year</td>\n      <td>Tech articles written by other developers;Indu...</td>\n      <td>14.0</td>\n      <td>Man</td>\n      <td>No</td>\n      <td>Straight / Heterosexual</td>\n      <td>NaN</td>\n      <td>No</td>\n      <td>Appropriate in length</td>\n      <td>Neither easy nor difficult</td>\n    </tr>\n    <tr>\n      <th>1</th>\n      <td>2</td>\n      <td>I am a student who is learning to code</td>\n      <td>No</td>\n      <td>Less than once per year</td>\n      <td>The quality of OSS and closed source software ...</td>\n      <td>Not employed, but looking for work</td>\n      <td>Bosnia and Herzegovina</td>\n      <td>Yes, full-time</td>\n      <td>Secondary school (e.g. American high school, G...</td>\n      <td>NaN</td>\n      <td>...</td>\n      <td>Just as welcome now as I felt last year</td>\n      <td>Tech articles written by other developers;Indu...</td>\n      <td>19.0</td>\n      <td>Man</td>\n      <td>No</td>\n      <td>Straight / Heterosexual</td>\n      <td>NaN</td>\n      <td>No</td>\n      <td>Appropriate in length</td>\n      <td>Neither easy nor difficult</td>\n    </tr>\n    <tr>\n      <th>2</th>\n      <td>3</td>\n      <td>I am not primarily a developer, but I write co...</td>\n      <td>Yes</td>\n      <td>Never</td>\n      <td>The quality of OSS and closed source software ...</td>\n      <td>Employed full-time</td>\n      <td>Thailand</td>\n      <td>No</td>\n      <td>Bachelor’s degree (BA, BS, B.Eng., etc.)</td>\n      <td>Web development or web design</td>\n      <td>...</td>\n      <td>Just as welcome now as I felt last year</td>\n      <td>Tech meetups or events in your area;Courses on...</td>\n      <td>28.0</td>\n      <td>Man</td>\n      <td>No</td>\n      <td>Straight / Heterosexual</td>\n      <td>NaN</td>\n      <td>Yes</td>\n      <td>Appropriate in length</td>\n      <td>Neither easy nor difficult</td>\n    </tr>\n    <tr>\n      <th>3</th>\n      <td>4</td>\n      <td>I am a developer by profession</td>\n      <td>No</td>\n      <td>Never</td>\n      <td>The quality of OSS and closed source software ...</td>\n      <td>Employed full-time</td>\n      <td>United States</td>\n      <td>No</td>\n      <td>Bachelor’s degree (BA, BS, B.Eng., etc.)</td>\n      <td>Computer science, computer engineering, or sof...</td>\n      <td>...</td>\n      <td>Just as welcome now as I felt last year</td>\n      <td>Tech articles written by other developers;Indu...</td>\n      <td>22.0</td>\n      <td>Man</td>\n      <td>No</td>\n      <td>Straight / Heterosexual</td>\n      <td>White or of European descent</td>\n      <td>No</td>\n      <td>Appropriate in length</td>\n      <td>Easy</td>\n    </tr>\n    <tr>\n      <th>4</th>\n      <td>5</td>\n      <td>I am a developer by profession</td>\n      <td>Yes</td>\n      <td>Once a month or more often</td>\n      <td>OSS is, on average, of HIGHER quality than pro...</td>\n      <td>Employed full-time</td>\n      <td>Ukraine</td>\n      <td>No</td>\n      <td>Bachelor’s degree (BA, BS, B.Eng., etc.)</td>\n      <td>Computer science, computer engineering, or sof...</td>\n      <td>...</td>\n      <td>Just as welcome now as I felt last year</td>\n      <td>Tech meetups or events in your area;Courses on...</td>\n      <td>30.0</td>\n      <td>Man</td>\n      <td>No</td>\n      <td>Straight / Heterosexual</td>\n      <td>White or of European descent;Multiracial</td>\n      <td>No</td>\n      <td>Appropriate in length</td>\n      <td>Easy</td>\n    </tr>\n  </tbody>\n</table>\n<p>5 rows × 85 columns</p>\n</div>"
     },
     "metadata": {},
     "execution_count": 3
    }
   ],
   "source": [
    "#first 5 lines of the data frame\n",
    "sr_df.head()"
   ]
  },
  {
   "cell_type": "code",
   "execution_count": 4,
   "metadata": {},
   "outputs": [
    {
     "output_type": "execute_result",
     "data": {
      "text/plain": "(88883, 85)"
     },
     "metadata": {},
     "execution_count": 4
    }
   ],
   "source": [
    "#the no. of rows X Columns\n",
    "sr_df.shape"
   ]
  },
  {
   "cell_type": "code",
   "execution_count": 5,
   "metadata": {},
   "outputs": [
    {
     "output_type": "stream",
     "name": "stdout",
     "text": "<class 'pandas.core.frame.DataFrame'>\nRangeIndex: 88883 entries, 0 to 88882\nData columns (total 85 columns):\nRespondent                88883 non-null int64\nMainBranch                88331 non-null object\nHobbyist                  88883 non-null object\nOpenSourcer               88883 non-null object\nOpenSource                86842 non-null object\nEmployment                87181 non-null object\nCountry                   88751 non-null object\nStudent                   87014 non-null object\nEdLevel                   86390 non-null object\nUndergradMajor            75614 non-null object\nEduOther                  84260 non-null object\nOrgSize                   71791 non-null object\nDevType                   81335 non-null object\nYearsCode                 87938 non-null object\nAge1stCode                87634 non-null object\nYearsCodePro              74331 non-null object\nCareerSat                 72847 non-null object\nJobSat                    70988 non-null object\nMgrIdiot                  61159 non-null object\nMgrMoney                  61157 non-null object\nMgrWant                   61232 non-null object\nJobSeek                   80555 non-null object\nLastHireDate              79854 non-null object\nLastInt                   67155 non-null object\nFizzBuzz                  71344 non-null object\nJobFactors                79371 non-null object\nResumeUpdate              77877 non-null object\nCurrencySymbol            71392 non-null object\nCurrencyDesc              71392 non-null object\nCompTotal                 55945 non-null float64\nCompFreq                  63268 non-null object\nConvertedComp             55823 non-null float64\nWorkWeekHrs               64503 non-null float64\nWorkPlan                  68914 non-null object\nWorkChallenge             68141 non-null object\nWorkRemote                70284 non-null object\nWorkLoc                   70055 non-null object\nImpSyn                    71779 non-null object\nCodeRev                   70390 non-null object\nCodeRevHrs                49790 non-null float64\nUnitTests                 62668 non-null object\nPurchaseHow               61108 non-null object\nPurchaseWhat              62029 non-null object\nLanguageWorkedWith        87569 non-null object\nLanguageDesireNextYear    84088 non-null object\nDatabaseWorkedWith        76026 non-null object\nDatabaseDesireNextYear    69147 non-null object\nPlatformWorkedWith        80714 non-null object\nPlatformDesireNextYear    77443 non-null object\nWebFrameWorkedWith        65022 non-null object\nWebFrameDesireNextYear    62944 non-null object\nMiscTechWorkedWith        59586 non-null object\nMiscTechDesireNextYear    64511 non-null object\nDevEnviron                87317 non-null object\nOpSys                     87851 non-null object\nContainers                85366 non-null object\nBlockchainOrg             48175 non-null object\nBlockchainIs              60165 non-null object\nBetterLife                86269 non-null object\nITperson                  87141 non-null object\nOffOn                     86663 non-null object\nSocialMedia               84437 non-null object\nExtraversion              87305 non-null object\nScreenName                80486 non-null object\nSOVisit1st                83877 non-null object\nSOVisitFreq               88263 non-null object\nSOVisitTo                 88086 non-null object\nSOFindAnswer              87816 non-null object\nSOTimeSaved               86344 non-null object\nSOHowMuchTime             68378 non-null object\nSOAccount                 87828 non-null object\nSOPartFreq                74692 non-null object\nSOJobs                    88066 non-null object\nEntTeams                  87841 non-null object\nSOComm                    88131 non-null object\nWelcomeChange             85855 non-null object\nSONewContent              69560 non-null object\nAge                       79210 non-null float64\nGender                    85406 non-null object\nTrans                     83607 non-null object\nSexuality                 76147 non-null object\nEthnicity                 76668 non-null object\nDependents                83059 non-null object\nSurveyLength              86984 non-null object\nSurveyEase                87081 non-null object\ndtypes: float64(5), int64(1), object(79)\nmemory usage: 57.6+ MB\n"
    }
   ],
   "source": [
    "# complete information about the data frame\n",
    "sr_df.info()"
   ]
  },
  {
   "cell_type": "code",
   "execution_count": 6,
   "metadata": {},
   "outputs": [],
   "source": [
    "# set display option to view all the columns with out hiding\n",
    "pd.set_option('display.max_columns', 85)"
   ]
  },
  {
   "cell_type": "code",
   "execution_count": 7,
   "metadata": {},
   "outputs": [],
   "source": [
    "#read CSV data in to data frame\n",
    "schema_df = pd.read_csv('C:\\\\Users\\\\sivkumar\\\\Documents\\\\Study Materials\\\\Data\\\\developer_survey_2019\\\\survey_results_schema.csv', header='infer', sep=',')"
   ]
  },
  {
   "cell_type": "code",
   "execution_count": 8,
   "metadata": {},
   "outputs": [
    {
     "output_type": "execute_result",
     "data": {
      "text/plain": "        Column                                       QuestionText\n0   Respondent  Randomized respondent ID number (not in order ...\n1   MainBranch  Which of the following options best describes ...\n2     Hobbyist                            Do you code as a hobby?\n3  OpenSourcer        How often do you contribute to open source?\n4   OpenSource  How do you feel about the quality of open sour...",
      "text/html": "<div>\n<style scoped>\n    .dataframe tbody tr th:only-of-type {\n        vertical-align: middle;\n    }\n\n    .dataframe tbody tr th {\n        vertical-align: top;\n    }\n\n    .dataframe thead th {\n        text-align: right;\n    }\n</style>\n<table border=\"1\" class=\"dataframe\">\n  <thead>\n    <tr style=\"text-align: right;\">\n      <th></th>\n      <th>Column</th>\n      <th>QuestionText</th>\n    </tr>\n  </thead>\n  <tbody>\n    <tr>\n      <th>0</th>\n      <td>Respondent</td>\n      <td>Randomized respondent ID number (not in order ...</td>\n    </tr>\n    <tr>\n      <th>1</th>\n      <td>MainBranch</td>\n      <td>Which of the following options best describes ...</td>\n    </tr>\n    <tr>\n      <th>2</th>\n      <td>Hobbyist</td>\n      <td>Do you code as a hobby?</td>\n    </tr>\n    <tr>\n      <th>3</th>\n      <td>OpenSourcer</td>\n      <td>How often do you contribute to open source?</td>\n    </tr>\n    <tr>\n      <th>4</th>\n      <td>OpenSource</td>\n      <td>How do you feel about the quality of open sour...</td>\n    </tr>\n  </tbody>\n</table>\n</div>"
     },
     "metadata": {},
     "execution_count": 8
    }
   ],
   "source": [
    "#returns first 5 lines of the data frame\n",
    "schema_df.head()"
   ]
  },
  {
   "cell_type": "code",
   "execution_count": 9,
   "metadata": {},
   "outputs": [
    {
     "output_type": "execute_result",
     "data": {
      "text/plain": "           Column                                       QuestionText\n75  WelcomeChange  Compared to last year, how welcome do you feel...\n76   SONewContent  Would you like to see any of the following on ...\n77            Age  What is your age (in years)? If you prefer not...\n78         Gender  Which of the following do you currently identi...\n79          Trans                    Do you identify as transgender?\n80      Sexuality  Which of the following do you currently identi...\n81      Ethnicity  Which of the following do you identify as? Ple...\n82     Dependents  Do you have any dependents (e.g., children, el...\n83   SurveyLength  How do you feel about the length of the survey...\n84     SurveyEase  How easy or difficult was this survey to compl...",
      "text/html": "<div>\n<style scoped>\n    .dataframe tbody tr th:only-of-type {\n        vertical-align: middle;\n    }\n\n    .dataframe tbody tr th {\n        vertical-align: top;\n    }\n\n    .dataframe thead th {\n        text-align: right;\n    }\n</style>\n<table border=\"1\" class=\"dataframe\">\n  <thead>\n    <tr style=\"text-align: right;\">\n      <th></th>\n      <th>Column</th>\n      <th>QuestionText</th>\n    </tr>\n  </thead>\n  <tbody>\n    <tr>\n      <th>75</th>\n      <td>WelcomeChange</td>\n      <td>Compared to last year, how welcome do you feel...</td>\n    </tr>\n    <tr>\n      <th>76</th>\n      <td>SONewContent</td>\n      <td>Would you like to see any of the following on ...</td>\n    </tr>\n    <tr>\n      <th>77</th>\n      <td>Age</td>\n      <td>What is your age (in years)? If you prefer not...</td>\n    </tr>\n    <tr>\n      <th>78</th>\n      <td>Gender</td>\n      <td>Which of the following do you currently identi...</td>\n    </tr>\n    <tr>\n      <th>79</th>\n      <td>Trans</td>\n      <td>Do you identify as transgender?</td>\n    </tr>\n    <tr>\n      <th>80</th>\n      <td>Sexuality</td>\n      <td>Which of the following do you currently identi...</td>\n    </tr>\n    <tr>\n      <th>81</th>\n      <td>Ethnicity</td>\n      <td>Which of the following do you identify as? Ple...</td>\n    </tr>\n    <tr>\n      <th>82</th>\n      <td>Dependents</td>\n      <td>Do you have any dependents (e.g., children, el...</td>\n    </tr>\n    <tr>\n      <th>83</th>\n      <td>SurveyLength</td>\n      <td>How do you feel about the length of the survey...</td>\n    </tr>\n    <tr>\n      <th>84</th>\n      <td>SurveyEase</td>\n      <td>How easy or difficult was this survey to compl...</td>\n    </tr>\n  </tbody>\n</table>\n</div>"
     },
     "metadata": {},
     "execution_count": 9
    }
   ],
   "source": [
    "# last 10 rows in the data frame\n",
    "schema_df.tail(10)"
   ]
  },
  {
   "cell_type": "code",
   "execution_count": 10,
   "metadata": {},
   "outputs": [
    {
     "output_type": "execute_result",
     "data": {
      "text/plain": "Index(['Column', 'QuestionText'], dtype='object')"
     },
     "metadata": {},
     "execution_count": 10
    }
   ],
   "source": [
    "#this shows the column indexes\n",
    "schema_df.columns"
   ]
  },
  {
   "cell_type": "markdown",
   "metadata": {},
   "source": [
    "## *Pandas Data frame and Pandas Data Series*\n",
    "---"
   ]
  },
  {
   "cell_type": "code",
   "execution_count": 11,
   "metadata": {},
   "outputs": [
    {
     "output_type": "execute_result",
     "data": {
      "text/plain": "0            United Kingdom\n1    Bosnia and Herzegovina\n2                  Thailand\n3             United States\n4                   Ukraine\nName: Country, dtype: object"
     },
     "metadata": {},
     "execution_count": 11
    }
   ],
   "source": [
    "#access one column as a panads series\n",
    "sr_df['Country'].head()"
   ]
  },
  {
   "cell_type": "code",
   "execution_count": 12,
   "metadata": {},
   "outputs": [
    {
     "output_type": "execute_result",
     "data": {
      "text/plain": "                  Country\n0          United Kingdom\n1  Bosnia and Herzegovina\n2                Thailand\n3           United States\n4                 Ukraine",
      "text/html": "<div>\n<style scoped>\n    .dataframe tbody tr th:only-of-type {\n        vertical-align: middle;\n    }\n\n    .dataframe tbody tr th {\n        vertical-align: top;\n    }\n\n    .dataframe thead th {\n        text-align: right;\n    }\n</style>\n<table border=\"1\" class=\"dataframe\">\n  <thead>\n    <tr style=\"text-align: right;\">\n      <th></th>\n      <th>Country</th>\n    </tr>\n  </thead>\n  <tbody>\n    <tr>\n      <th>0</th>\n      <td>United Kingdom</td>\n    </tr>\n    <tr>\n      <th>1</th>\n      <td>Bosnia and Herzegovina</td>\n    </tr>\n    <tr>\n      <th>2</th>\n      <td>Thailand</td>\n    </tr>\n    <tr>\n      <th>3</th>\n      <td>United States</td>\n    </tr>\n    <tr>\n      <th>4</th>\n      <td>Ukraine</td>\n    </tr>\n  </tbody>\n</table>\n</div>"
     },
     "metadata": {},
     "execution_count": 12
    }
   ],
   "source": [
    "#access one column as a pandas data frame, then pass in the columns name as a list\n",
    "sr_df[['Country']].head()"
   ]
  },
  {
   "cell_type": "code",
   "execution_count": 13,
   "metadata": {},
   "outputs": [
    {
     "output_type": "execute_result",
     "data": {
      "text/plain": "                  Country         Student\n0          United Kingdom              No\n1  Bosnia and Herzegovina  Yes, full-time\n2                Thailand              No\n3           United States              No\n4                 Ukraine              No",
      "text/html": "<div>\n<style scoped>\n    .dataframe tbody tr th:only-of-type {\n        vertical-align: middle;\n    }\n\n    .dataframe tbody tr th {\n        vertical-align: top;\n    }\n\n    .dataframe thead th {\n        text-align: right;\n    }\n</style>\n<table border=\"1\" class=\"dataframe\">\n  <thead>\n    <tr style=\"text-align: right;\">\n      <th></th>\n      <th>Country</th>\n      <th>Student</th>\n    </tr>\n  </thead>\n  <tbody>\n    <tr>\n      <th>0</th>\n      <td>United Kingdom</td>\n      <td>No</td>\n    </tr>\n    <tr>\n      <th>1</th>\n      <td>Bosnia and Herzegovina</td>\n      <td>Yes, full-time</td>\n    </tr>\n    <tr>\n      <th>2</th>\n      <td>Thailand</td>\n      <td>No</td>\n    </tr>\n    <tr>\n      <th>3</th>\n      <td>United States</td>\n      <td>No</td>\n    </tr>\n    <tr>\n      <th>4</th>\n      <td>Ukraine</td>\n      <td>No</td>\n    </tr>\n  </tbody>\n</table>\n</div>"
     },
     "metadata": {},
     "execution_count": 13
    }
   ],
   "source": [
    "#access multiple columns, then pass in the column names as a list for ex. ['Country','Student']\n",
    "sr_df[['Country','Student']].head()"
   ]
  },
  {
   "cell_type": "code",
   "execution_count": 14,
   "metadata": {},
   "outputs": [
    {
     "output_type": "execute_result",
     "data": {
      "text/plain": "Respondent                                                      1\nMainBranch                 I am a student who is learning to code\nHobbyist                                                      Yes\nOpenSourcer                                                 Never\nOpenSource      The quality of OSS and closed source software ...\n                                      ...                        \nSexuality                                 Straight / Heterosexual\nEthnicity                                                     NaN\nDependents                                                     No\nSurveyLength                                Appropriate in length\nSurveyEase                             Neither easy nor difficult\nName: 0, Length: 85, dtype: object"
     },
     "metadata": {},
     "execution_count": 14
    }
   ],
   "source": [
    "# \".iloc\" means (Integer Location) where in the Integer is the Index in terms of data frame\n",
    "# for ex : sr_df.iloc[0] means 1st row of data frame as a (Pandas series)\n",
    "# for ex : sr_df.iloc[[0]] means 1st row of data frame as a (Pandas data frame)\n",
    "sr_df.iloc[[0]]\n",
    "\n",
    "sr_df.iloc[0]"
   ]
  },
  {
   "cell_type": "code",
   "execution_count": 15,
   "metadata": {},
   "outputs": [
    {
     "output_type": "execute_result",
     "data": {
      "text/plain": "                  Country         Student\n0          United Kingdom              No\n1  Bosnia and Herzegovina  Yes, full-time",
      "text/html": "<div>\n<style scoped>\n    .dataframe tbody tr th:only-of-type {\n        vertical-align: middle;\n    }\n\n    .dataframe tbody tr th {\n        vertical-align: top;\n    }\n\n    .dataframe thead th {\n        text-align: right;\n    }\n</style>\n<table border=\"1\" class=\"dataframe\">\n  <thead>\n    <tr style=\"text-align: right;\">\n      <th></th>\n      <th>Country</th>\n      <th>Student</th>\n    </tr>\n  </thead>\n  <tbody>\n    <tr>\n      <th>0</th>\n      <td>United Kingdom</td>\n      <td>No</td>\n    </tr>\n    <tr>\n      <th>1</th>\n      <td>Bosnia and Herzegovina</td>\n      <td>Yes, full-time</td>\n    </tr>\n  </tbody>\n</table>\n</div>"
     },
     "metadata": {},
     "execution_count": 15
    }
   ],
   "source": [
    "#to access 2 rows as a data frame using .iloc then pass in the row indexes as a list\n",
    "sr_df.iloc[[0,1],[6,7]]"
   ]
  },
  {
   "cell_type": "code",
   "execution_count": 16,
   "metadata": {},
   "outputs": [
    {
     "output_type": "execute_result",
     "data": {
      "text/plain": "   Respondent                              MainBranch Hobbyist OpenSourcer  \\\n0           1  I am a student who is learning to code      Yes       Never   \n\n                                          OpenSource  \\\n0  The quality of OSS and closed source software ...   \n\n                               Employment         Country Student  \\\n0  Not employed, and not looking for work  United Kingdom      No   \n\n                     EdLevel UndergradMajor  \\\n0  Primary/elementary school            NaN   \n\n                                            EduOther OrgSize DevType  \\\n0  Taught yourself a new language, framework, or ...     NaN     NaN   \n\n  YearsCode Age1stCode YearsCodePro CareerSat JobSat MgrIdiot MgrMoney  \\\n0         4         10          NaN       NaN    NaN      NaN      NaN   \n\n  MgrWant JobSeek LastHireDate LastInt FizzBuzz JobFactors ResumeUpdate  \\\n0     NaN     NaN          NaN     NaN      NaN        NaN          NaN   \n\n  CurrencySymbol CurrencyDesc  CompTotal CompFreq  ConvertedComp  WorkWeekHrs  \\\n0            NaN          NaN        NaN      NaN            NaN          NaN   \n\n  WorkPlan WorkChallenge WorkRemote WorkLoc ImpSyn CodeRev  CodeRevHrs  \\\n0      NaN           NaN        NaN     NaN    NaN     NaN         NaN   \n\n  UnitTests PurchaseHow PurchaseWhat               LanguageWorkedWith  \\\n0       NaN         NaN          NaN  HTML/CSS;Java;JavaScript;Python   \n\n                            LanguageDesireNextYear DatabaseWorkedWith  \\\n0  C;C++;C#;Go;HTML/CSS;Java;JavaScript;Python;SQL             SQLite   \n\n  DatabaseDesireNextYear PlatformWorkedWith   PlatformDesireNextYear  \\\n0                  MySQL      MacOS;Windows  Android;Arduino;Windows   \n\n  WebFrameWorkedWith WebFrameDesireNextYear MiscTechWorkedWith  \\\n0       Django;Flask           Flask;jQuery            Node.js   \n\n  MiscTechDesireNextYear                  DevEnviron    OpSys  \\\n0                Node.js  IntelliJ;Notepad++;PyCharm  Windows   \n\n                Containers BlockchainOrg BlockchainIs BetterLife  \\\n0  I do not use containers           NaN          NaN        Yes   \n\n                                   ITperson OffOn SocialMedia Extraversion  \\\n0  Fortunately, someone else has that title   Yes     Twitter       Online   \n\n  ScreenName SOVisit1st                      SOVisitFreq  \\\n0   Username       2017  A few times per month or weekly   \n\n                                           SOVisitTo        SOFindAnswer  \\\n0  Find answers to specific questions;Learn how t...  3-5 times per week   \n\n                      SOTimeSaved  SOHowMuchTime SOAccount SOPartFreq  \\\n0  Stack Overflow was much faster  31-60 minutes        No        NaN   \n\n                                              SOJobs  \\\n0  No, I didn't know that Stack Overflow had a jo...   \n\n                              EntTeams   SOComm  \\\n0  No, and I don't know what those are  Neutral   \n\n                             WelcomeChange  \\\n0  Just as welcome now as I felt last year   \n\n                                        SONewContent   Age Gender Trans  \\\n0  Tech articles written by other developers;Indu...  14.0    Man    No   \n\n                 Sexuality Ethnicity Dependents           SurveyLength  \\\n0  Straight / Heterosexual       NaN         No  Appropriate in length   \n\n                   SurveyEase  \n0  Neither easy nor difficult  ",
      "text/html": "<div>\n<style scoped>\n    .dataframe tbody tr th:only-of-type {\n        vertical-align: middle;\n    }\n\n    .dataframe tbody tr th {\n        vertical-align: top;\n    }\n\n    .dataframe thead th {\n        text-align: right;\n    }\n</style>\n<table border=\"1\" class=\"dataframe\">\n  <thead>\n    <tr style=\"text-align: right;\">\n      <th></th>\n      <th>Respondent</th>\n      <th>MainBranch</th>\n      <th>Hobbyist</th>\n      <th>OpenSourcer</th>\n      <th>OpenSource</th>\n      <th>Employment</th>\n      <th>Country</th>\n      <th>Student</th>\n      <th>EdLevel</th>\n      <th>UndergradMajor</th>\n      <th>EduOther</th>\n      <th>OrgSize</th>\n      <th>DevType</th>\n      <th>YearsCode</th>\n      <th>Age1stCode</th>\n      <th>YearsCodePro</th>\n      <th>CareerSat</th>\n      <th>JobSat</th>\n      <th>MgrIdiot</th>\n      <th>MgrMoney</th>\n      <th>MgrWant</th>\n      <th>JobSeek</th>\n      <th>LastHireDate</th>\n      <th>LastInt</th>\n      <th>FizzBuzz</th>\n      <th>JobFactors</th>\n      <th>ResumeUpdate</th>\n      <th>CurrencySymbol</th>\n      <th>CurrencyDesc</th>\n      <th>CompTotal</th>\n      <th>CompFreq</th>\n      <th>ConvertedComp</th>\n      <th>WorkWeekHrs</th>\n      <th>WorkPlan</th>\n      <th>WorkChallenge</th>\n      <th>WorkRemote</th>\n      <th>WorkLoc</th>\n      <th>ImpSyn</th>\n      <th>CodeRev</th>\n      <th>CodeRevHrs</th>\n      <th>UnitTests</th>\n      <th>PurchaseHow</th>\n      <th>PurchaseWhat</th>\n      <th>LanguageWorkedWith</th>\n      <th>LanguageDesireNextYear</th>\n      <th>DatabaseWorkedWith</th>\n      <th>DatabaseDesireNextYear</th>\n      <th>PlatformWorkedWith</th>\n      <th>PlatformDesireNextYear</th>\n      <th>WebFrameWorkedWith</th>\n      <th>WebFrameDesireNextYear</th>\n      <th>MiscTechWorkedWith</th>\n      <th>MiscTechDesireNextYear</th>\n      <th>DevEnviron</th>\n      <th>OpSys</th>\n      <th>Containers</th>\n      <th>BlockchainOrg</th>\n      <th>BlockchainIs</th>\n      <th>BetterLife</th>\n      <th>ITperson</th>\n      <th>OffOn</th>\n      <th>SocialMedia</th>\n      <th>Extraversion</th>\n      <th>ScreenName</th>\n      <th>SOVisit1st</th>\n      <th>SOVisitFreq</th>\n      <th>SOVisitTo</th>\n      <th>SOFindAnswer</th>\n      <th>SOTimeSaved</th>\n      <th>SOHowMuchTime</th>\n      <th>SOAccount</th>\n      <th>SOPartFreq</th>\n      <th>SOJobs</th>\n      <th>EntTeams</th>\n      <th>SOComm</th>\n      <th>WelcomeChange</th>\n      <th>SONewContent</th>\n      <th>Age</th>\n      <th>Gender</th>\n      <th>Trans</th>\n      <th>Sexuality</th>\n      <th>Ethnicity</th>\n      <th>Dependents</th>\n      <th>SurveyLength</th>\n      <th>SurveyEase</th>\n    </tr>\n  </thead>\n  <tbody>\n    <tr>\n      <th>0</th>\n      <td>1</td>\n      <td>I am a student who is learning to code</td>\n      <td>Yes</td>\n      <td>Never</td>\n      <td>The quality of OSS and closed source software ...</td>\n      <td>Not employed, and not looking for work</td>\n      <td>United Kingdom</td>\n      <td>No</td>\n      <td>Primary/elementary school</td>\n      <td>NaN</td>\n      <td>Taught yourself a new language, framework, or ...</td>\n      <td>NaN</td>\n      <td>NaN</td>\n      <td>4</td>\n      <td>10</td>\n      <td>NaN</td>\n      <td>NaN</td>\n      <td>NaN</td>\n      <td>NaN</td>\n      <td>NaN</td>\n      <td>NaN</td>\n      <td>NaN</td>\n      <td>NaN</td>\n      <td>NaN</td>\n      <td>NaN</td>\n      <td>NaN</td>\n      <td>NaN</td>\n      <td>NaN</td>\n      <td>NaN</td>\n      <td>NaN</td>\n      <td>NaN</td>\n      <td>NaN</td>\n      <td>NaN</td>\n      <td>NaN</td>\n      <td>NaN</td>\n      <td>NaN</td>\n      <td>NaN</td>\n      <td>NaN</td>\n      <td>NaN</td>\n      <td>NaN</td>\n      <td>NaN</td>\n      <td>NaN</td>\n      <td>NaN</td>\n      <td>HTML/CSS;Java;JavaScript;Python</td>\n      <td>C;C++;C#;Go;HTML/CSS;Java;JavaScript;Python;SQL</td>\n      <td>SQLite</td>\n      <td>MySQL</td>\n      <td>MacOS;Windows</td>\n      <td>Android;Arduino;Windows</td>\n      <td>Django;Flask</td>\n      <td>Flask;jQuery</td>\n      <td>Node.js</td>\n      <td>Node.js</td>\n      <td>IntelliJ;Notepad++;PyCharm</td>\n      <td>Windows</td>\n      <td>I do not use containers</td>\n      <td>NaN</td>\n      <td>NaN</td>\n      <td>Yes</td>\n      <td>Fortunately, someone else has that title</td>\n      <td>Yes</td>\n      <td>Twitter</td>\n      <td>Online</td>\n      <td>Username</td>\n      <td>2017</td>\n      <td>A few times per month or weekly</td>\n      <td>Find answers to specific questions;Learn how t...</td>\n      <td>3-5 times per week</td>\n      <td>Stack Overflow was much faster</td>\n      <td>31-60 minutes</td>\n      <td>No</td>\n      <td>NaN</td>\n      <td>No, I didn't know that Stack Overflow had a jo...</td>\n      <td>No, and I don't know what those are</td>\n      <td>Neutral</td>\n      <td>Just as welcome now as I felt last year</td>\n      <td>Tech articles written by other developers;Indu...</td>\n      <td>14.0</td>\n      <td>Man</td>\n      <td>No</td>\n      <td>Straight / Heterosexual</td>\n      <td>NaN</td>\n      <td>No</td>\n      <td>Appropriate in length</td>\n      <td>Neither easy nor difficult</td>\n    </tr>\n  </tbody>\n</table>\n</div>"
     },
     "metadata": {},
     "execution_count": 16
    }
   ],
   "source": [
    "# Similar to iloc, we have \"loc\" which uses any of the index, where in it can be of lables\n",
    "sr_df.loc[0] # pandas series\n",
    "\n",
    "sr_df.loc[[0]] # pandas data frame"
   ]
  },
  {
   "cell_type": "code",
   "execution_count": 17,
   "metadata": {},
   "outputs": [
    {
     "output_type": "execute_result",
     "data": {
      "text/plain": "                  Country         Student\n0          United Kingdom              No\n1  Bosnia and Herzegovina  Yes, full-time",
      "text/html": "<div>\n<style scoped>\n    .dataframe tbody tr th:only-of-type {\n        vertical-align: middle;\n    }\n\n    .dataframe tbody tr th {\n        vertical-align: top;\n    }\n\n    .dataframe thead th {\n        text-align: right;\n    }\n</style>\n<table border=\"1\" class=\"dataframe\">\n  <thead>\n    <tr style=\"text-align: right;\">\n      <th></th>\n      <th>Country</th>\n      <th>Student</th>\n    </tr>\n  </thead>\n  <tbody>\n    <tr>\n      <th>0</th>\n      <td>United Kingdom</td>\n      <td>No</td>\n    </tr>\n    <tr>\n      <th>1</th>\n      <td>Bosnia and Herzegovina</td>\n      <td>Yes, full-time</td>\n    </tr>\n  </tbody>\n</table>\n</div>"
     },
     "metadata": {},
     "execution_count": 17
    }
   ],
   "source": [
    "# loc with column lables and rows lables(which are indexes)\n",
    "sr_df.loc[[0,1],['Country','Student']]"
   ]
  },
  {
   "cell_type": "code",
   "execution_count": 18,
   "metadata": {},
   "outputs": [
    {
     "output_type": "execute_result",
     "data": {
      "text/plain": "Yes    71257\nNo     17626\nName: Hobbyist, dtype: int64"
     },
     "metadata": {},
     "execution_count": 18
    }
   ],
   "source": [
    "# value_counts() for categorical data columns\n",
    "sr_df['Hobbyist'].value_counts()"
   ]
  },
  {
   "cell_type": "code",
   "execution_count": 19,
   "metadata": {},
   "outputs": [
    {
     "output_type": "execute_result",
     "data": {
      "text/plain": "   Respondent                                         MainBranch Hobbyist  \\\n0           1             I am a student who is learning to code      Yes   \n1           2             I am a student who is learning to code       No   \n2           3  I am not primarily a developer, but I write co...      Yes   \n3           4                     I am a developer by profession       No   \n4           5                     I am a developer by profession      Yes   \n5           6  I am not primarily a developer, but I write co...      Yes   \n\n                  OpenSourcer  \\\n0                       Never   \n1     Less than once per year   \n2                       Never   \n3                       Never   \n4  Once a month or more often   \n5                       Never   \n\n                                          OpenSource  \\\n0  The quality of OSS and closed source software ...   \n1  The quality of OSS and closed source software ...   \n2  The quality of OSS and closed source software ...   \n3  The quality of OSS and closed source software ...   \n4  OSS is, on average, of HIGHER quality than pro...   \n5  The quality of OSS and closed source software ...   \n\n                               Employment                 Country  \n0  Not employed, and not looking for work          United Kingdom  \n1      Not employed, but looking for work  Bosnia and Herzegovina  \n2                      Employed full-time                Thailand  \n3                      Employed full-time           United States  \n4                      Employed full-time                 Ukraine  \n5                      Employed full-time                  Canada  ",
      "text/html": "<div>\n<style scoped>\n    .dataframe tbody tr th:only-of-type {\n        vertical-align: middle;\n    }\n\n    .dataframe tbody tr th {\n        vertical-align: top;\n    }\n\n    .dataframe thead th {\n        text-align: right;\n    }\n</style>\n<table border=\"1\" class=\"dataframe\">\n  <thead>\n    <tr style=\"text-align: right;\">\n      <th></th>\n      <th>Respondent</th>\n      <th>MainBranch</th>\n      <th>Hobbyist</th>\n      <th>OpenSourcer</th>\n      <th>OpenSource</th>\n      <th>Employment</th>\n      <th>Country</th>\n    </tr>\n  </thead>\n  <tbody>\n    <tr>\n      <th>0</th>\n      <td>1</td>\n      <td>I am a student who is learning to code</td>\n      <td>Yes</td>\n      <td>Never</td>\n      <td>The quality of OSS and closed source software ...</td>\n      <td>Not employed, and not looking for work</td>\n      <td>United Kingdom</td>\n    </tr>\n    <tr>\n      <th>1</th>\n      <td>2</td>\n      <td>I am a student who is learning to code</td>\n      <td>No</td>\n      <td>Less than once per year</td>\n      <td>The quality of OSS and closed source software ...</td>\n      <td>Not employed, but looking for work</td>\n      <td>Bosnia and Herzegovina</td>\n    </tr>\n    <tr>\n      <th>2</th>\n      <td>3</td>\n      <td>I am not primarily a developer, but I write co...</td>\n      <td>Yes</td>\n      <td>Never</td>\n      <td>The quality of OSS and closed source software ...</td>\n      <td>Employed full-time</td>\n      <td>Thailand</td>\n    </tr>\n    <tr>\n      <th>3</th>\n      <td>4</td>\n      <td>I am a developer by profession</td>\n      <td>No</td>\n      <td>Never</td>\n      <td>The quality of OSS and closed source software ...</td>\n      <td>Employed full-time</td>\n      <td>United States</td>\n    </tr>\n    <tr>\n      <th>4</th>\n      <td>5</td>\n      <td>I am a developer by profession</td>\n      <td>Yes</td>\n      <td>Once a month or more often</td>\n      <td>OSS is, on average, of HIGHER quality than pro...</td>\n      <td>Employed full-time</td>\n      <td>Ukraine</td>\n    </tr>\n    <tr>\n      <th>5</th>\n      <td>6</td>\n      <td>I am not primarily a developer, but I write co...</td>\n      <td>Yes</td>\n      <td>Never</td>\n      <td>The quality of OSS and closed source software ...</td>\n      <td>Employed full-time</td>\n      <td>Canada</td>\n    </tr>\n  </tbody>\n</table>\n</div>"
     },
     "metadata": {},
     "execution_count": 19
    }
   ],
   "source": [
    "# when we want to use loc to slice and dice by a range of rows and columns, we do not pass in the values as a [<list>]\n",
    "# we pass in the rows values as a range for ex. 0:5 for top 6 rows\n",
    "# 'Respondent':'Student' for columns from respondent to student\n",
    "\n",
    "sr_df.loc[0:5, 'Respondent':'Country']"
   ]
  },
  {
   "cell_type": "markdown",
   "metadata": {},
   "source": [
    "### Pandas : ***Indexes***\n",
    "* index is like a primary_key to the table\n",
    "---"
   ]
  },
  {
   "cell_type": "code",
   "execution_count": 20,
   "metadata": {},
   "outputs": [
    {
     "output_type": "execute_result",
     "data": {
      "text/plain": "        Column                                       QuestionText\n0   Respondent  Randomized respondent ID number (not in order ...\n1   MainBranch  Which of the following options best describes ...\n2     Hobbyist                            Do you code as a hobby?\n3  OpenSourcer        How often do you contribute to open source?\n4   OpenSource  How do you feel about the quality of open sour...",
      "text/html": "<div>\n<style scoped>\n    .dataframe tbody tr th:only-of-type {\n        vertical-align: middle;\n    }\n\n    .dataframe tbody tr th {\n        vertical-align: top;\n    }\n\n    .dataframe thead th {\n        text-align: right;\n    }\n</style>\n<table border=\"1\" class=\"dataframe\">\n  <thead>\n    <tr style=\"text-align: right;\">\n      <th></th>\n      <th>Column</th>\n      <th>QuestionText</th>\n    </tr>\n  </thead>\n  <tbody>\n    <tr>\n      <th>0</th>\n      <td>Respondent</td>\n      <td>Randomized respondent ID number (not in order ...</td>\n    </tr>\n    <tr>\n      <th>1</th>\n      <td>MainBranch</td>\n      <td>Which of the following options best describes ...</td>\n    </tr>\n    <tr>\n      <th>2</th>\n      <td>Hobbyist</td>\n      <td>Do you code as a hobby?</td>\n    </tr>\n    <tr>\n      <th>3</th>\n      <td>OpenSourcer</td>\n      <td>How often do you contribute to open source?</td>\n    </tr>\n    <tr>\n      <th>4</th>\n      <td>OpenSource</td>\n      <td>How do you feel about the quality of open sour...</td>\n    </tr>\n  </tbody>\n</table>\n</div>"
     },
     "metadata": {},
     "execution_count": 20
    }
   ],
   "source": [
    "# here the DataFrame as the index has integer numbers starting from 0\n",
    "schema_df.head()"
   ]
  },
  {
   "cell_type": "code",
   "execution_count": 21,
   "metadata": {},
   "outputs": [
    {
     "output_type": "execute_result",
     "data": {
      "text/plain": "                                                   QuestionText\nColumn                                                         \nRespondent    Randomized respondent ID number (not in order ...\nMainBranch    Which of the following options best describes ...\nHobbyist                                Do you code as a hobby?\nOpenSourcer         How often do you contribute to open source?\nOpenSource    How do you feel about the quality of open sour...\n...                                                         ...\nSexuality     Which of the following do you currently identi...\nEthnicity     Which of the following do you identify as? Ple...\nDependents    Do you have any dependents (e.g., children, el...\nSurveyLength  How do you feel about the length of the survey...\nSurveyEase    How easy or difficult was this survey to compl...\n\n[85 rows x 1 columns]",
      "text/html": "<div>\n<style scoped>\n    .dataframe tbody tr th:only-of-type {\n        vertical-align: middle;\n    }\n\n    .dataframe tbody tr th {\n        vertical-align: top;\n    }\n\n    .dataframe thead th {\n        text-align: right;\n    }\n</style>\n<table border=\"1\" class=\"dataframe\">\n  <thead>\n    <tr style=\"text-align: right;\">\n      <th></th>\n      <th>QuestionText</th>\n    </tr>\n    <tr>\n      <th>Column</th>\n      <th></th>\n    </tr>\n  </thead>\n  <tbody>\n    <tr>\n      <th>Respondent</th>\n      <td>Randomized respondent ID number (not in order ...</td>\n    </tr>\n    <tr>\n      <th>MainBranch</th>\n      <td>Which of the following options best describes ...</td>\n    </tr>\n    <tr>\n      <th>Hobbyist</th>\n      <td>Do you code as a hobby?</td>\n    </tr>\n    <tr>\n      <th>OpenSourcer</th>\n      <td>How often do you contribute to open source?</td>\n    </tr>\n    <tr>\n      <th>OpenSource</th>\n      <td>How do you feel about the quality of open sour...</td>\n    </tr>\n    <tr>\n      <th>...</th>\n      <td>...</td>\n    </tr>\n    <tr>\n      <th>Sexuality</th>\n      <td>Which of the following do you currently identi...</td>\n    </tr>\n    <tr>\n      <th>Ethnicity</th>\n      <td>Which of the following do you identify as? Ple...</td>\n    </tr>\n    <tr>\n      <th>Dependents</th>\n      <td>Do you have any dependents (e.g., children, el...</td>\n    </tr>\n    <tr>\n      <th>SurveyLength</th>\n      <td>How do you feel about the length of the survey...</td>\n    </tr>\n    <tr>\n      <th>SurveyEase</th>\n      <td>How easy or difficult was this survey to compl...</td>\n    </tr>\n  </tbody>\n</table>\n<p>85 rows × 1 columns</p>\n</div>"
     },
     "metadata": {},
     "execution_count": 21
    }
   ],
   "source": [
    "# we can change the index of the data frame from default number to any specific coulmn in a DataFrame\n",
    "# for ex. in DataFrame schema_df make the column \"Column\" as index column\n",
    "schema_df.set_index('Column')\n",
    "\n",
    "# but the above index is only changed for this cell and not affected in the original DataFrame\n",
    "# because Pandas does not make the change unless we give permission using \"inplace=True\""
   ]
  },
  {
   "cell_type": "code",
   "execution_count": 22,
   "metadata": {},
   "outputs": [],
   "source": [
    "# we use this parameter \"inplace=True\" to make the set_index as permanent\n",
    "schema_df.set_index('Column', inplace=True)\n",
    "\n",
    "# after this we cannot access the data frame with the numerical index for ex. schema_df.loc[0] will throw an error\n",
    "# where in the schema_df.iloc[0] using the integer location will perform the same operation\n"
   ]
  },
  {
   "cell_type": "code",
   "execution_count": 23,
   "metadata": {},
   "outputs": [],
   "source": [
    "# to reset the index we can use the \"reset_index()\" method with \"inplace=True\" parameter to reset the DataFrame index\n",
    "schema_df.reset_index(inplace=True)"
   ]
  },
  {
   "cell_type": "code",
   "execution_count": 24,
   "metadata": {},
   "outputs": [],
   "source": [
    "# to set the index_col when the data is loaded from the CSV file use the parameter \"index_col=<column_name>\"\n",
    "sr_df = pd.read_csv('C:\\\\Users\\\\sivkumar\\\\Documents\\\\Study Materials\\\\Data\\\\developer_survey_2019\\\\survey_results_public.csv', header='infer', sep=',', index_col='Respondent')\n",
    "\n",
    "schema_df = pd.read_csv('C:\\\\Users\\\\sivkumar\\\\Documents\\\\Study Materials\\\\Data\\\\developer_survey_2019\\\\survey_results_schema.csv', header='infer', sep=',', index_col='Column')"
   ]
  },
  {
   "cell_type": "code",
   "execution_count": 25,
   "metadata": {},
   "outputs": [
    {
     "output_type": "execute_result",
     "data": {
      "text/plain": "'How confident are you that your manager knows what they’re doing?'"
     },
     "metadata": {},
     "execution_count": 25
    }
   ],
   "source": [
    "# accessing the value of a cell using the new Index value in the loc and the column you want the data from\n",
    "schema_df.loc['MgrIdiot', 'QuestionText']"
   ]
  },
  {
   "cell_type": "code",
   "execution_count": 26,
   "metadata": {},
   "outputs": [
    {
     "output_type": "execute_result",
     "data": {
      "text/plain": "                                                    QuestionText\nColumn                                                          \nAge            What is your age (in years)? If you prefer not...\nAge1stCode     At what age did you write your first line of c...\nBetterLife     Do you think people born today will have a bet...\nBlockchainIs   Blockchain / cryptocurrency technology is prim...\nBlockchainOrg  How is your organization thinking about or imp...\n...                                                          ...\nWorkPlan                 How structured or planned is your work?\nWorkRemote                       How often do you work remotely?\nWorkWeekHrs     On average, how many hours per week do you work?\nYearsCode      Including any education, how many years have y...\nYearsCodePro   How many years have you coded professionally (...\n\n[85 rows x 1 columns]",
      "text/html": "<div>\n<style scoped>\n    .dataframe tbody tr th:only-of-type {\n        vertical-align: middle;\n    }\n\n    .dataframe tbody tr th {\n        vertical-align: top;\n    }\n\n    .dataframe thead th {\n        text-align: right;\n    }\n</style>\n<table border=\"1\" class=\"dataframe\">\n  <thead>\n    <tr style=\"text-align: right;\">\n      <th></th>\n      <th>QuestionText</th>\n    </tr>\n    <tr>\n      <th>Column</th>\n      <th></th>\n    </tr>\n  </thead>\n  <tbody>\n    <tr>\n      <th>Age</th>\n      <td>What is your age (in years)? If you prefer not...</td>\n    </tr>\n    <tr>\n      <th>Age1stCode</th>\n      <td>At what age did you write your first line of c...</td>\n    </tr>\n    <tr>\n      <th>BetterLife</th>\n      <td>Do you think people born today will have a bet...</td>\n    </tr>\n    <tr>\n      <th>BlockchainIs</th>\n      <td>Blockchain / cryptocurrency technology is prim...</td>\n    </tr>\n    <tr>\n      <th>BlockchainOrg</th>\n      <td>How is your organization thinking about or imp...</td>\n    </tr>\n    <tr>\n      <th>...</th>\n      <td>...</td>\n    </tr>\n    <tr>\n      <th>WorkPlan</th>\n      <td>How structured or planned is your work?</td>\n    </tr>\n    <tr>\n      <th>WorkRemote</th>\n      <td>How often do you work remotely?</td>\n    </tr>\n    <tr>\n      <th>WorkWeekHrs</th>\n      <td>On average, how many hours per week do you work?</td>\n    </tr>\n    <tr>\n      <th>YearsCode</th>\n      <td>Including any education, how many years have y...</td>\n    </tr>\n    <tr>\n      <th>YearsCodePro</th>\n      <td>How many years have you coded professionally (...</td>\n    </tr>\n  </tbody>\n</table>\n<p>85 rows × 1 columns</p>\n</div>"
     },
     "metadata": {},
     "execution_count": 26
    }
   ],
   "source": [
    "# sorting based on the Index value, ascending = \"ascending=True\"\n",
    "# decending = \"decending=True\"\n",
    "schema_df.sort_index(ascending=True)"
   ]
  },
  {
   "cell_type": "markdown",
   "metadata": {},
   "source": [
    "### Pandas : *** basics of filtering data in DataFrame ***\n",
    "\n",
    "***\n",
    "\n",
    "* can filter the DataFrame using direct method or indirect method\n",
    "* Direct Method : where in ** sr_df\\[sr_df\\['Country'\\]=='India\\] **\n",
    "* Indirect Method : ** filter_condition = sr_df\\['Country'\\]=='India **\n",
    "then use the filter_conditon variable to filter the data frame like\n",
    "** sr_df\\[filter_condition\\] **\n",
    "\n",
    "\n",
    "* we use ** & ** for logical ** AND **\n",
    "* we use ** | ** for logical ** OR **"
   ]
  },
  {
   "cell_type": "code",
   "execution_count": 27,
   "metadata": {},
   "outputs": [
    {
     "output_type": "execute_result",
     "data": {
      "text/plain": "Respondent\n1         True\n2        False\n3        False\n4        False\n5        False\n         ...  \n88377    False\n88601    False\n88802    False\n88816    False\n88863    False\nName: Country, Length: 88883, dtype: bool"
     },
     "metadata": {},
     "execution_count": 27
    }
   ],
   "source": [
    "# The filter condition alone returns a boolean series like below\n",
    "sr_df['Country']=='United Kingdom'"
   ]
  },
  {
   "cell_type": "code",
   "execution_count": 28,
   "metadata": {},
   "outputs": [
    {
     "output_type": "execute_result",
     "data": {
      "text/plain": "                                MainBranch Hobbyist  \\\nRespondent                                            \n8              I code primarily as a hobby      Yes   \n10          I am a developer by profession      Yes   \n\n                           OpenSourcer  \\\nRespondent                               \n8              Less than once per year   \n10          Once a month or more often   \n\n                                                   OpenSource  \\\nRespondent                                                      \n8           OSS is, on average, of HIGHER quality than pro...   \n10          OSS is, on average, of HIGHER quality than pro...   \n\n                                    Employment Country Student  \\\nRespondent                                                       \n8           Not employed, but looking for work   India     NaN   \n10                          Employed full-time   India      No   \n\n                                                EdLevel  \\\nRespondent                                                \n8              Bachelor’s degree (BA, BS, B.Eng., etc.)   \n10          Master’s degree (MA, MS, M.Eng., MBA, etc.)   \n\n                                               UndergradMajor  \\\nRespondent                                                      \n8           Computer science, computer engineering, or sof...   \n10                                                        NaN   \n\n                                                     EduOther  \\\nRespondent                                                      \n8           Taught yourself a new language, framework, or ...   \n10                                                        NaN   \n\n                             OrgSize  \\\nRespondent                             \n8                                NaN   \n10          10,000 or more employees   \n\n                                                      DevType YearsCode  \\\nRespondent                                                                \n8              Developer, back-end;Engineer, site reliability         8   \n10          Data or business analyst;Data scientist or mac...        12   \n\n           Age1stCode YearsCodePro              CareerSat  \\\nRespondent                                                  \n8                  16          NaN                    NaN   \n10                 20           10  Slightly dissatisfied   \n\n                           JobSat            MgrIdiot MgrMoney MgrWant  \\\nRespondent                                                               \n8                             NaN                 NaN      NaN     NaN   \n10          Slightly dissatisfied  Somewhat confident      Yes     Yes   \n\n                                                      JobSeek   LastHireDate  \\\nRespondent                                                                     \n8                                                         NaN            NaN   \n10          I’m not actively looking, but I am open to new...  3-4 years ago   \n\n           LastInt FizzBuzz  \\\nRespondent                    \n8              NaN      NaN   \n10             NaN       No   \n\n                                                   JobFactors ResumeUpdate  \\\nRespondent                                                                   \n8                                                         NaN          NaN   \n10          Languages, frameworks, and other technologies ...          NaN   \n\n           CurrencySymbol  CurrencyDesc  CompTotal CompFreq  ConvertedComp  \\\nRespondent                                                                   \n8                     NaN           NaN        NaN      NaN            NaN   \n10                    INR  Indian rupee   950000.0   Yearly        13293.0   \n\n            WorkWeekHrs                                           WorkPlan  \\\nRespondent                                                                   \n8                   NaN                                                NaN   \n10                 70.0  There's no schedule or spec; I work on what se...   \n\n           WorkChallenge             WorkRemote WorkLoc             ImpSyn  \\\nRespondent                                                                   \n8                    NaN                    NaN     NaN                NaN   \n10                   NaN  A few days each month    Home  Far above average   \n\n                                            CodeRev  CodeRevHrs  \\\nRespondent                                                        \n8                                               NaN         NaN   \n10          Yes, because I see value in code review         4.0   \n\n                                UnitTests PurchaseHow PurchaseWhat  \\\nRespondent                                                           \n8                                     NaN         NaN          NaN   \n10          Yes, it's part of our process         NaN          NaN   \n\n                                           LanguageWorkedWith  \\\nRespondent                                                      \n8           Bash/Shell/PowerShell;C;C++;HTML/CSS;Java;Java...   \n10                              C#;Go;JavaScript;Python;R;SQL   \n\n                                       LanguageDesireNextYear  \\\nRespondent                                                      \n8           Bash/Shell/PowerShell;C;C++;Elixir;Erlang;Go;P...   \n10                       C#;Go;JavaScript;Kotlin;Python;R;SQL   \n\n                                           DatabaseWorkedWith  \\\nRespondent                                                      \n8           Cassandra;Elasticsearch;MongoDB;MySQL;Oracle;R...   \n10          Elasticsearch;MongoDB;Microsoft SQL Server;MyS...   \n\n                                       DatabaseDesireNextYear  \\\nRespondent                                                      \n8           Cassandra;DynamoDB;Elasticsearch;Firebase;Mong...   \n10                 Elasticsearch;MongoDB;Microsoft SQL Server   \n\n                             PlatformWorkedWith  \\\nRespondent                                        \n8           AWS;Docker;Heroku;Linux;MacOS;Slack   \n10                                Linux;Windows   \n\n                                       PlatformDesireNextYear  \\\nRespondent                                                      \n8           Android;Arduino;AWS;Docker;Google Cloud Platfo...   \n10                         Android;Linux;Raspberry Pi;Windows   \n\n                                           WebFrameWorkedWith  \\\nRespondent                                                      \n8                               Express;Flask;React.js;Spring   \n10          Angular/Angular.js;ASP.NET;Django;Express;Flas...   \n\n                                       WebFrameDesireNextYear  \\\nRespondent                                                      \n8                        Django;Express;Flask;React.js;Vue.js   \n10          Angular/Angular.js;ASP.NET;Django;Express;Flas...   \n\n                           MiscTechWorkedWith  \\\nRespondent                                      \n8                       Hadoop;Node.js;Pandas   \n10          .NET;Node.js;Pandas;Torch/PyTorch   \n\n                                       MiscTechDesireNextYear  \\\nRespondent                                                      \n8           Ansible;Apache Spark;Chef;Hadoop;Node.js;Panda...   \n10                      .NET;Node.js;TensorFlow;Torch/PyTorch   \n\n                                                   DevEnviron        OpSys  \\\nRespondent                                                                   \n8           Atom;IntelliJ;IPython / Jupyter;PyCharm;Visual...  Linux-based   \n10          Android Studio;Eclipse;IPython / Jupyter;Notep...      Windows   \n\n                                                   Containers BlockchainOrg  \\\nRespondent                                                                    \n8           Development;Testing;Production;Outside of work...           NaN   \n10                                                        NaN    Not at all   \n\n                                                 BlockchainIs BetterLife  \\\nRespondent                                                                 \n8           Useful across many domains and could change ma...        Yes   \n10          Useful for immutable record keeping outside of...         No   \n\n           ITperson OffOn SocialMedia              Extraversion   ScreenName  \\\nRespondent                                                                     \n8              SIGH   Yes     YouTube  In real life (in person)       Handle   \n10              Yes   Yes     YouTube                   Neither  Screen Name   \n\n           SOVisit1st             SOVisitFreq  \\\nRespondent                                      \n8                2012    A few times per week   \n10                NaN  Multiple times per day   \n\n                                                    SOVisitTo  \\\nRespondent                                                      \n8           Find answers to specific questions;Learn how t...   \n10          Find answers to specific questions;Get a sense...   \n\n                       SOFindAnswer                         SOTimeSaved  \\\nRespondent                                                                \n8           Less than once per week  Stack Overflow was slightly faster   \n10               3-5 times per week            They were about the same   \n\n            SOHowMuchTime SOAccount                           SOPartFreq  \\\nRespondent                                                                 \n8           11-30 minutes       Yes  Less than once per month or monthly   \n10                    NaN       Yes      A few times per month or weekly   \n\n           SOJobs                             EntTeams           SOComm  \\\nRespondent                                                                \n8             Yes  No, and I don't know what those are  Yes, definitely   \n10            Yes  No, and I don't know what those are    Yes, somewhat   \n\n                                       WelcomeChange  \\\nRespondent                                             \n8              A lot more welcome now than last year   \n10          Somewhat less welcome now than last year   \n\n                                                 SONewContent   Age Gender  \\\nRespondent                                                                   \n8           Tech articles written by other developers;Indu...  24.0    Man   \n10          Tech articles written by other developers;Tech...   NaN    NaN   \n\n           Trans                Sexuality Ethnicity Dependents  \\\nRespondent                                                       \n8             No  Straight / Heterosexual       NaN        NaN   \n10           NaN                      NaN       NaN        Yes   \n\n                     SurveyLength                  SurveyEase  \nRespondent                                                     \n8           Appropriate in length  Neither easy nor difficult  \n10                       Too long                   Difficult  ",
      "text/html": "<div>\n<style scoped>\n    .dataframe tbody tr th:only-of-type {\n        vertical-align: middle;\n    }\n\n    .dataframe tbody tr th {\n        vertical-align: top;\n    }\n\n    .dataframe thead th {\n        text-align: right;\n    }\n</style>\n<table border=\"1\" class=\"dataframe\">\n  <thead>\n    <tr style=\"text-align: right;\">\n      <th></th>\n      <th>MainBranch</th>\n      <th>Hobbyist</th>\n      <th>OpenSourcer</th>\n      <th>OpenSource</th>\n      <th>Employment</th>\n      <th>Country</th>\n      <th>Student</th>\n      <th>EdLevel</th>\n      <th>UndergradMajor</th>\n      <th>EduOther</th>\n      <th>OrgSize</th>\n      <th>DevType</th>\n      <th>YearsCode</th>\n      <th>Age1stCode</th>\n      <th>YearsCodePro</th>\n      <th>CareerSat</th>\n      <th>JobSat</th>\n      <th>MgrIdiot</th>\n      <th>MgrMoney</th>\n      <th>MgrWant</th>\n      <th>JobSeek</th>\n      <th>LastHireDate</th>\n      <th>LastInt</th>\n      <th>FizzBuzz</th>\n      <th>JobFactors</th>\n      <th>ResumeUpdate</th>\n      <th>CurrencySymbol</th>\n      <th>CurrencyDesc</th>\n      <th>CompTotal</th>\n      <th>CompFreq</th>\n      <th>ConvertedComp</th>\n      <th>WorkWeekHrs</th>\n      <th>WorkPlan</th>\n      <th>WorkChallenge</th>\n      <th>WorkRemote</th>\n      <th>WorkLoc</th>\n      <th>ImpSyn</th>\n      <th>CodeRev</th>\n      <th>CodeRevHrs</th>\n      <th>UnitTests</th>\n      <th>PurchaseHow</th>\n      <th>PurchaseWhat</th>\n      <th>LanguageWorkedWith</th>\n      <th>LanguageDesireNextYear</th>\n      <th>DatabaseWorkedWith</th>\n      <th>DatabaseDesireNextYear</th>\n      <th>PlatformWorkedWith</th>\n      <th>PlatformDesireNextYear</th>\n      <th>WebFrameWorkedWith</th>\n      <th>WebFrameDesireNextYear</th>\n      <th>MiscTechWorkedWith</th>\n      <th>MiscTechDesireNextYear</th>\n      <th>DevEnviron</th>\n      <th>OpSys</th>\n      <th>Containers</th>\n      <th>BlockchainOrg</th>\n      <th>BlockchainIs</th>\n      <th>BetterLife</th>\n      <th>ITperson</th>\n      <th>OffOn</th>\n      <th>SocialMedia</th>\n      <th>Extraversion</th>\n      <th>ScreenName</th>\n      <th>SOVisit1st</th>\n      <th>SOVisitFreq</th>\n      <th>SOVisitTo</th>\n      <th>SOFindAnswer</th>\n      <th>SOTimeSaved</th>\n      <th>SOHowMuchTime</th>\n      <th>SOAccount</th>\n      <th>SOPartFreq</th>\n      <th>SOJobs</th>\n      <th>EntTeams</th>\n      <th>SOComm</th>\n      <th>WelcomeChange</th>\n      <th>SONewContent</th>\n      <th>Age</th>\n      <th>Gender</th>\n      <th>Trans</th>\n      <th>Sexuality</th>\n      <th>Ethnicity</th>\n      <th>Dependents</th>\n      <th>SurveyLength</th>\n      <th>SurveyEase</th>\n    </tr>\n    <tr>\n      <th>Respondent</th>\n      <th></th>\n      <th></th>\n      <th></th>\n      <th></th>\n      <th></th>\n      <th></th>\n      <th></th>\n      <th></th>\n      <th></th>\n      <th></th>\n      <th></th>\n      <th></th>\n      <th></th>\n      <th></th>\n      <th></th>\n      <th></th>\n      <th></th>\n      <th></th>\n      <th></th>\n      <th></th>\n      <th></th>\n      <th></th>\n      <th></th>\n      <th></th>\n      <th></th>\n      <th></th>\n      <th></th>\n      <th></th>\n      <th></th>\n      <th></th>\n      <th></th>\n      <th></th>\n      <th></th>\n      <th></th>\n      <th></th>\n      <th></th>\n      <th></th>\n      <th></th>\n      <th></th>\n      <th></th>\n      <th></th>\n      <th></th>\n      <th></th>\n      <th></th>\n      <th></th>\n      <th></th>\n      <th></th>\n      <th></th>\n      <th></th>\n      <th></th>\n      <th></th>\n      <th></th>\n      <th></th>\n      <th></th>\n      <th></th>\n      <th></th>\n      <th></th>\n      <th></th>\n      <th></th>\n      <th></th>\n      <th></th>\n      <th></th>\n      <th></th>\n      <th></th>\n      <th></th>\n      <th></th>\n      <th></th>\n      <th></th>\n      <th></th>\n      <th></th>\n      <th></th>\n      <th></th>\n      <th></th>\n      <th></th>\n      <th></th>\n      <th></th>\n      <th></th>\n      <th></th>\n      <th></th>\n      <th></th>\n      <th></th>\n      <th></th>\n      <th></th>\n      <th></th>\n    </tr>\n  </thead>\n  <tbody>\n    <tr>\n      <th>8</th>\n      <td>I code primarily as a hobby</td>\n      <td>Yes</td>\n      <td>Less than once per year</td>\n      <td>OSS is, on average, of HIGHER quality than pro...</td>\n      <td>Not employed, but looking for work</td>\n      <td>India</td>\n      <td>NaN</td>\n      <td>Bachelor’s degree (BA, BS, B.Eng., etc.)</td>\n      <td>Computer science, computer engineering, or sof...</td>\n      <td>Taught yourself a new language, framework, or ...</td>\n      <td>NaN</td>\n      <td>Developer, back-end;Engineer, site reliability</td>\n      <td>8</td>\n      <td>16</td>\n      <td>NaN</td>\n      <td>NaN</td>\n      <td>NaN</td>\n      <td>NaN</td>\n      <td>NaN</td>\n      <td>NaN</td>\n      <td>NaN</td>\n      <td>NaN</td>\n      <td>NaN</td>\n      <td>NaN</td>\n      <td>NaN</td>\n      <td>NaN</td>\n      <td>NaN</td>\n      <td>NaN</td>\n      <td>NaN</td>\n      <td>NaN</td>\n      <td>NaN</td>\n      <td>NaN</td>\n      <td>NaN</td>\n      <td>NaN</td>\n      <td>NaN</td>\n      <td>NaN</td>\n      <td>NaN</td>\n      <td>NaN</td>\n      <td>NaN</td>\n      <td>NaN</td>\n      <td>NaN</td>\n      <td>NaN</td>\n      <td>Bash/Shell/PowerShell;C;C++;HTML/CSS;Java;Java...</td>\n      <td>Bash/Shell/PowerShell;C;C++;Elixir;Erlang;Go;P...</td>\n      <td>Cassandra;Elasticsearch;MongoDB;MySQL;Oracle;R...</td>\n      <td>Cassandra;DynamoDB;Elasticsearch;Firebase;Mong...</td>\n      <td>AWS;Docker;Heroku;Linux;MacOS;Slack</td>\n      <td>Android;Arduino;AWS;Docker;Google Cloud Platfo...</td>\n      <td>Express;Flask;React.js;Spring</td>\n      <td>Django;Express;Flask;React.js;Vue.js</td>\n      <td>Hadoop;Node.js;Pandas</td>\n      <td>Ansible;Apache Spark;Chef;Hadoop;Node.js;Panda...</td>\n      <td>Atom;IntelliJ;IPython / Jupyter;PyCharm;Visual...</td>\n      <td>Linux-based</td>\n      <td>Development;Testing;Production;Outside of work...</td>\n      <td>NaN</td>\n      <td>Useful across many domains and could change ma...</td>\n      <td>Yes</td>\n      <td>SIGH</td>\n      <td>Yes</td>\n      <td>YouTube</td>\n      <td>In real life (in person)</td>\n      <td>Handle</td>\n      <td>2012</td>\n      <td>A few times per week</td>\n      <td>Find answers to specific questions;Learn how t...</td>\n      <td>Less than once per week</td>\n      <td>Stack Overflow was slightly faster</td>\n      <td>11-30 minutes</td>\n      <td>Yes</td>\n      <td>Less than once per month or monthly</td>\n      <td>Yes</td>\n      <td>No, and I don't know what those are</td>\n      <td>Yes, definitely</td>\n      <td>A lot more welcome now than last year</td>\n      <td>Tech articles written by other developers;Indu...</td>\n      <td>24.0</td>\n      <td>Man</td>\n      <td>No</td>\n      <td>Straight / Heterosexual</td>\n      <td>NaN</td>\n      <td>NaN</td>\n      <td>Appropriate in length</td>\n      <td>Neither easy nor difficult</td>\n    </tr>\n    <tr>\n      <th>10</th>\n      <td>I am a developer by profession</td>\n      <td>Yes</td>\n      <td>Once a month or more often</td>\n      <td>OSS is, on average, of HIGHER quality than pro...</td>\n      <td>Employed full-time</td>\n      <td>India</td>\n      <td>No</td>\n      <td>Master’s degree (MA, MS, M.Eng., MBA, etc.)</td>\n      <td>NaN</td>\n      <td>NaN</td>\n      <td>10,000 or more employees</td>\n      <td>Data or business analyst;Data scientist or mac...</td>\n      <td>12</td>\n      <td>20</td>\n      <td>10</td>\n      <td>Slightly dissatisfied</td>\n      <td>Slightly dissatisfied</td>\n      <td>Somewhat confident</td>\n      <td>Yes</td>\n      <td>Yes</td>\n      <td>I’m not actively looking, but I am open to new...</td>\n      <td>3-4 years ago</td>\n      <td>NaN</td>\n      <td>No</td>\n      <td>Languages, frameworks, and other technologies ...</td>\n      <td>NaN</td>\n      <td>INR</td>\n      <td>Indian rupee</td>\n      <td>950000.0</td>\n      <td>Yearly</td>\n      <td>13293.0</td>\n      <td>70.0</td>\n      <td>There's no schedule or spec; I work on what se...</td>\n      <td>NaN</td>\n      <td>A few days each month</td>\n      <td>Home</td>\n      <td>Far above average</td>\n      <td>Yes, because I see value in code review</td>\n      <td>4.0</td>\n      <td>Yes, it's part of our process</td>\n      <td>NaN</td>\n      <td>NaN</td>\n      <td>C#;Go;JavaScript;Python;R;SQL</td>\n      <td>C#;Go;JavaScript;Kotlin;Python;R;SQL</td>\n      <td>Elasticsearch;MongoDB;Microsoft SQL Server;MyS...</td>\n      <td>Elasticsearch;MongoDB;Microsoft SQL Server</td>\n      <td>Linux;Windows</td>\n      <td>Android;Linux;Raspberry Pi;Windows</td>\n      <td>Angular/Angular.js;ASP.NET;Django;Express;Flas...</td>\n      <td>Angular/Angular.js;ASP.NET;Django;Express;Flas...</td>\n      <td>.NET;Node.js;Pandas;Torch/PyTorch</td>\n      <td>.NET;Node.js;TensorFlow;Torch/PyTorch</td>\n      <td>Android Studio;Eclipse;IPython / Jupyter;Notep...</td>\n      <td>Windows</td>\n      <td>NaN</td>\n      <td>Not at all</td>\n      <td>Useful for immutable record keeping outside of...</td>\n      <td>No</td>\n      <td>Yes</td>\n      <td>Yes</td>\n      <td>YouTube</td>\n      <td>Neither</td>\n      <td>Screen Name</td>\n      <td>NaN</td>\n      <td>Multiple times per day</td>\n      <td>Find answers to specific questions;Get a sense...</td>\n      <td>3-5 times per week</td>\n      <td>They were about the same</td>\n      <td>NaN</td>\n      <td>Yes</td>\n      <td>A few times per month or weekly</td>\n      <td>Yes</td>\n      <td>No, and I don't know what those are</td>\n      <td>Yes, somewhat</td>\n      <td>Somewhat less welcome now than last year</td>\n      <td>Tech articles written by other developers;Tech...</td>\n      <td>NaN</td>\n      <td>NaN</td>\n      <td>NaN</td>\n      <td>NaN</td>\n      <td>NaN</td>\n      <td>Yes</td>\n      <td>Too long</td>\n      <td>Difficult</td>\n    </tr>\n  </tbody>\n</table>\n</div>"
     },
     "metadata": {},
     "execution_count": 28
    }
   ],
   "source": [
    "# direct method, con : less readability\n",
    "sr_df[sr_df['Country']=='India'].head(2)"
   ]
  },
  {
   "cell_type": "code",
   "execution_count": 29,
   "metadata": {},
   "outputs": [
    {
     "output_type": "execute_result",
     "data": {
      "text/plain": "                                MainBranch Hobbyist  \\\nRespondent                                            \n8              I code primarily as a hobby      Yes   \n10          I am a developer by profession      Yes   \n\n                           OpenSourcer  \\\nRespondent                               \n8              Less than once per year   \n10          Once a month or more often   \n\n                                                   OpenSource  \\\nRespondent                                                      \n8           OSS is, on average, of HIGHER quality than pro...   \n10          OSS is, on average, of HIGHER quality than pro...   \n\n                                    Employment Country Student  \\\nRespondent                                                       \n8           Not employed, but looking for work   India     NaN   \n10                          Employed full-time   India      No   \n\n                                                EdLevel  \\\nRespondent                                                \n8              Bachelor’s degree (BA, BS, B.Eng., etc.)   \n10          Master’s degree (MA, MS, M.Eng., MBA, etc.)   \n\n                                               UndergradMajor  \\\nRespondent                                                      \n8           Computer science, computer engineering, or sof...   \n10                                                        NaN   \n\n                                                     EduOther  \\\nRespondent                                                      \n8           Taught yourself a new language, framework, or ...   \n10                                                        NaN   \n\n                             OrgSize  \\\nRespondent                             \n8                                NaN   \n10          10,000 or more employees   \n\n                                                      DevType YearsCode  \\\nRespondent                                                                \n8              Developer, back-end;Engineer, site reliability         8   \n10          Data or business analyst;Data scientist or mac...        12   \n\n           Age1stCode YearsCodePro              CareerSat  \\\nRespondent                                                  \n8                  16          NaN                    NaN   \n10                 20           10  Slightly dissatisfied   \n\n                           JobSat            MgrIdiot MgrMoney MgrWant  \\\nRespondent                                                               \n8                             NaN                 NaN      NaN     NaN   \n10          Slightly dissatisfied  Somewhat confident      Yes     Yes   \n\n                                                      JobSeek   LastHireDate  \\\nRespondent                                                                     \n8                                                         NaN            NaN   \n10          I’m not actively looking, but I am open to new...  3-4 years ago   \n\n           LastInt FizzBuzz  \\\nRespondent                    \n8              NaN      NaN   \n10             NaN       No   \n\n                                                   JobFactors ResumeUpdate  \\\nRespondent                                                                   \n8                                                         NaN          NaN   \n10          Languages, frameworks, and other technologies ...          NaN   \n\n           CurrencySymbol  CurrencyDesc  CompTotal CompFreq  ConvertedComp  \\\nRespondent                                                                   \n8                     NaN           NaN        NaN      NaN            NaN   \n10                    INR  Indian rupee   950000.0   Yearly        13293.0   \n\n            WorkWeekHrs                                           WorkPlan  \\\nRespondent                                                                   \n8                   NaN                                                NaN   \n10                 70.0  There's no schedule or spec; I work on what se...   \n\n           WorkChallenge             WorkRemote WorkLoc             ImpSyn  \\\nRespondent                                                                   \n8                    NaN                    NaN     NaN                NaN   \n10                   NaN  A few days each month    Home  Far above average   \n\n                                            CodeRev  CodeRevHrs  \\\nRespondent                                                        \n8                                               NaN         NaN   \n10          Yes, because I see value in code review         4.0   \n\n                                UnitTests PurchaseHow PurchaseWhat  \\\nRespondent                                                           \n8                                     NaN         NaN          NaN   \n10          Yes, it's part of our process         NaN          NaN   \n\n                                           LanguageWorkedWith  \\\nRespondent                                                      \n8           Bash/Shell/PowerShell;C;C++;HTML/CSS;Java;Java...   \n10                              C#;Go;JavaScript;Python;R;SQL   \n\n                                       LanguageDesireNextYear  \\\nRespondent                                                      \n8           Bash/Shell/PowerShell;C;C++;Elixir;Erlang;Go;P...   \n10                       C#;Go;JavaScript;Kotlin;Python;R;SQL   \n\n                                           DatabaseWorkedWith  \\\nRespondent                                                      \n8           Cassandra;Elasticsearch;MongoDB;MySQL;Oracle;R...   \n10          Elasticsearch;MongoDB;Microsoft SQL Server;MyS...   \n\n                                       DatabaseDesireNextYear  \\\nRespondent                                                      \n8           Cassandra;DynamoDB;Elasticsearch;Firebase;Mong...   \n10                 Elasticsearch;MongoDB;Microsoft SQL Server   \n\n                             PlatformWorkedWith  \\\nRespondent                                        \n8           AWS;Docker;Heroku;Linux;MacOS;Slack   \n10                                Linux;Windows   \n\n                                       PlatformDesireNextYear  \\\nRespondent                                                      \n8           Android;Arduino;AWS;Docker;Google Cloud Platfo...   \n10                         Android;Linux;Raspberry Pi;Windows   \n\n                                           WebFrameWorkedWith  \\\nRespondent                                                      \n8                               Express;Flask;React.js;Spring   \n10          Angular/Angular.js;ASP.NET;Django;Express;Flas...   \n\n                                       WebFrameDesireNextYear  \\\nRespondent                                                      \n8                        Django;Express;Flask;React.js;Vue.js   \n10          Angular/Angular.js;ASP.NET;Django;Express;Flas...   \n\n                           MiscTechWorkedWith  \\\nRespondent                                      \n8                       Hadoop;Node.js;Pandas   \n10          .NET;Node.js;Pandas;Torch/PyTorch   \n\n                                       MiscTechDesireNextYear  \\\nRespondent                                                      \n8           Ansible;Apache Spark;Chef;Hadoop;Node.js;Panda...   \n10                      .NET;Node.js;TensorFlow;Torch/PyTorch   \n\n                                                   DevEnviron        OpSys  \\\nRespondent                                                                   \n8           Atom;IntelliJ;IPython / Jupyter;PyCharm;Visual...  Linux-based   \n10          Android Studio;Eclipse;IPython / Jupyter;Notep...      Windows   \n\n                                                   Containers BlockchainOrg  \\\nRespondent                                                                    \n8           Development;Testing;Production;Outside of work...           NaN   \n10                                                        NaN    Not at all   \n\n                                                 BlockchainIs BetterLife  \\\nRespondent                                                                 \n8           Useful across many domains and could change ma...        Yes   \n10          Useful for immutable record keeping outside of...         No   \n\n           ITperson OffOn SocialMedia              Extraversion   ScreenName  \\\nRespondent                                                                     \n8              SIGH   Yes     YouTube  In real life (in person)       Handle   \n10              Yes   Yes     YouTube                   Neither  Screen Name   \n\n           SOVisit1st             SOVisitFreq  \\\nRespondent                                      \n8                2012    A few times per week   \n10                NaN  Multiple times per day   \n\n                                                    SOVisitTo  \\\nRespondent                                                      \n8           Find answers to specific questions;Learn how t...   \n10          Find answers to specific questions;Get a sense...   \n\n                       SOFindAnswer                         SOTimeSaved  \\\nRespondent                                                                \n8           Less than once per week  Stack Overflow was slightly faster   \n10               3-5 times per week            They were about the same   \n\n            SOHowMuchTime SOAccount                           SOPartFreq  \\\nRespondent                                                                 \n8           11-30 minutes       Yes  Less than once per month or monthly   \n10                    NaN       Yes      A few times per month or weekly   \n\n           SOJobs                             EntTeams           SOComm  \\\nRespondent                                                                \n8             Yes  No, and I don't know what those are  Yes, definitely   \n10            Yes  No, and I don't know what those are    Yes, somewhat   \n\n                                       WelcomeChange  \\\nRespondent                                             \n8              A lot more welcome now than last year   \n10          Somewhat less welcome now than last year   \n\n                                                 SONewContent   Age Gender  \\\nRespondent                                                                   \n8           Tech articles written by other developers;Indu...  24.0    Man   \n10          Tech articles written by other developers;Tech...   NaN    NaN   \n\n           Trans                Sexuality Ethnicity Dependents  \\\nRespondent                                                       \n8             No  Straight / Heterosexual       NaN        NaN   \n10           NaN                      NaN       NaN        Yes   \n\n                     SurveyLength                  SurveyEase  \nRespondent                                                     \n8           Appropriate in length  Neither easy nor difficult  \n10                       Too long                   Difficult  ",
      "text/html": "<div>\n<style scoped>\n    .dataframe tbody tr th:only-of-type {\n        vertical-align: middle;\n    }\n\n    .dataframe tbody tr th {\n        vertical-align: top;\n    }\n\n    .dataframe thead th {\n        text-align: right;\n    }\n</style>\n<table border=\"1\" class=\"dataframe\">\n  <thead>\n    <tr style=\"text-align: right;\">\n      <th></th>\n      <th>MainBranch</th>\n      <th>Hobbyist</th>\n      <th>OpenSourcer</th>\n      <th>OpenSource</th>\n      <th>Employment</th>\n      <th>Country</th>\n      <th>Student</th>\n      <th>EdLevel</th>\n      <th>UndergradMajor</th>\n      <th>EduOther</th>\n      <th>OrgSize</th>\n      <th>DevType</th>\n      <th>YearsCode</th>\n      <th>Age1stCode</th>\n      <th>YearsCodePro</th>\n      <th>CareerSat</th>\n      <th>JobSat</th>\n      <th>MgrIdiot</th>\n      <th>MgrMoney</th>\n      <th>MgrWant</th>\n      <th>JobSeek</th>\n      <th>LastHireDate</th>\n      <th>LastInt</th>\n      <th>FizzBuzz</th>\n      <th>JobFactors</th>\n      <th>ResumeUpdate</th>\n      <th>CurrencySymbol</th>\n      <th>CurrencyDesc</th>\n      <th>CompTotal</th>\n      <th>CompFreq</th>\n      <th>ConvertedComp</th>\n      <th>WorkWeekHrs</th>\n      <th>WorkPlan</th>\n      <th>WorkChallenge</th>\n      <th>WorkRemote</th>\n      <th>WorkLoc</th>\n      <th>ImpSyn</th>\n      <th>CodeRev</th>\n      <th>CodeRevHrs</th>\n      <th>UnitTests</th>\n      <th>PurchaseHow</th>\n      <th>PurchaseWhat</th>\n      <th>LanguageWorkedWith</th>\n      <th>LanguageDesireNextYear</th>\n      <th>DatabaseWorkedWith</th>\n      <th>DatabaseDesireNextYear</th>\n      <th>PlatformWorkedWith</th>\n      <th>PlatformDesireNextYear</th>\n      <th>WebFrameWorkedWith</th>\n      <th>WebFrameDesireNextYear</th>\n      <th>MiscTechWorkedWith</th>\n      <th>MiscTechDesireNextYear</th>\n      <th>DevEnviron</th>\n      <th>OpSys</th>\n      <th>Containers</th>\n      <th>BlockchainOrg</th>\n      <th>BlockchainIs</th>\n      <th>BetterLife</th>\n      <th>ITperson</th>\n      <th>OffOn</th>\n      <th>SocialMedia</th>\n      <th>Extraversion</th>\n      <th>ScreenName</th>\n      <th>SOVisit1st</th>\n      <th>SOVisitFreq</th>\n      <th>SOVisitTo</th>\n      <th>SOFindAnswer</th>\n      <th>SOTimeSaved</th>\n      <th>SOHowMuchTime</th>\n      <th>SOAccount</th>\n      <th>SOPartFreq</th>\n      <th>SOJobs</th>\n      <th>EntTeams</th>\n      <th>SOComm</th>\n      <th>WelcomeChange</th>\n      <th>SONewContent</th>\n      <th>Age</th>\n      <th>Gender</th>\n      <th>Trans</th>\n      <th>Sexuality</th>\n      <th>Ethnicity</th>\n      <th>Dependents</th>\n      <th>SurveyLength</th>\n      <th>SurveyEase</th>\n    </tr>\n    <tr>\n      <th>Respondent</th>\n      <th></th>\n      <th></th>\n      <th></th>\n      <th></th>\n      <th></th>\n      <th></th>\n      <th></th>\n      <th></th>\n      <th></th>\n      <th></th>\n      <th></th>\n      <th></th>\n      <th></th>\n      <th></th>\n      <th></th>\n      <th></th>\n      <th></th>\n      <th></th>\n      <th></th>\n      <th></th>\n      <th></th>\n      <th></th>\n      <th></th>\n      <th></th>\n      <th></th>\n      <th></th>\n      <th></th>\n      <th></th>\n      <th></th>\n      <th></th>\n      <th></th>\n      <th></th>\n      <th></th>\n      <th></th>\n      <th></th>\n      <th></th>\n      <th></th>\n      <th></th>\n      <th></th>\n      <th></th>\n      <th></th>\n      <th></th>\n      <th></th>\n      <th></th>\n      <th></th>\n      <th></th>\n      <th></th>\n      <th></th>\n      <th></th>\n      <th></th>\n      <th></th>\n      <th></th>\n      <th></th>\n      <th></th>\n      <th></th>\n      <th></th>\n      <th></th>\n      <th></th>\n      <th></th>\n      <th></th>\n      <th></th>\n      <th></th>\n      <th></th>\n      <th></th>\n      <th></th>\n      <th></th>\n      <th></th>\n      <th></th>\n      <th></th>\n      <th></th>\n      <th></th>\n      <th></th>\n      <th></th>\n      <th></th>\n      <th></th>\n      <th></th>\n      <th></th>\n      <th></th>\n      <th></th>\n      <th></th>\n      <th></th>\n      <th></th>\n      <th></th>\n      <th></th>\n    </tr>\n  </thead>\n  <tbody>\n    <tr>\n      <th>8</th>\n      <td>I code primarily as a hobby</td>\n      <td>Yes</td>\n      <td>Less than once per year</td>\n      <td>OSS is, on average, of HIGHER quality than pro...</td>\n      <td>Not employed, but looking for work</td>\n      <td>India</td>\n      <td>NaN</td>\n      <td>Bachelor’s degree (BA, BS, B.Eng., etc.)</td>\n      <td>Computer science, computer engineering, or sof...</td>\n      <td>Taught yourself a new language, framework, or ...</td>\n      <td>NaN</td>\n      <td>Developer, back-end;Engineer, site reliability</td>\n      <td>8</td>\n      <td>16</td>\n      <td>NaN</td>\n      <td>NaN</td>\n      <td>NaN</td>\n      <td>NaN</td>\n      <td>NaN</td>\n      <td>NaN</td>\n      <td>NaN</td>\n      <td>NaN</td>\n      <td>NaN</td>\n      <td>NaN</td>\n      <td>NaN</td>\n      <td>NaN</td>\n      <td>NaN</td>\n      <td>NaN</td>\n      <td>NaN</td>\n      <td>NaN</td>\n      <td>NaN</td>\n      <td>NaN</td>\n      <td>NaN</td>\n      <td>NaN</td>\n      <td>NaN</td>\n      <td>NaN</td>\n      <td>NaN</td>\n      <td>NaN</td>\n      <td>NaN</td>\n      <td>NaN</td>\n      <td>NaN</td>\n      <td>NaN</td>\n      <td>Bash/Shell/PowerShell;C;C++;HTML/CSS;Java;Java...</td>\n      <td>Bash/Shell/PowerShell;C;C++;Elixir;Erlang;Go;P...</td>\n      <td>Cassandra;Elasticsearch;MongoDB;MySQL;Oracle;R...</td>\n      <td>Cassandra;DynamoDB;Elasticsearch;Firebase;Mong...</td>\n      <td>AWS;Docker;Heroku;Linux;MacOS;Slack</td>\n      <td>Android;Arduino;AWS;Docker;Google Cloud Platfo...</td>\n      <td>Express;Flask;React.js;Spring</td>\n      <td>Django;Express;Flask;React.js;Vue.js</td>\n      <td>Hadoop;Node.js;Pandas</td>\n      <td>Ansible;Apache Spark;Chef;Hadoop;Node.js;Panda...</td>\n      <td>Atom;IntelliJ;IPython / Jupyter;PyCharm;Visual...</td>\n      <td>Linux-based</td>\n      <td>Development;Testing;Production;Outside of work...</td>\n      <td>NaN</td>\n      <td>Useful across many domains and could change ma...</td>\n      <td>Yes</td>\n      <td>SIGH</td>\n      <td>Yes</td>\n      <td>YouTube</td>\n      <td>In real life (in person)</td>\n      <td>Handle</td>\n      <td>2012</td>\n      <td>A few times per week</td>\n      <td>Find answers to specific questions;Learn how t...</td>\n      <td>Less than once per week</td>\n      <td>Stack Overflow was slightly faster</td>\n      <td>11-30 minutes</td>\n      <td>Yes</td>\n      <td>Less than once per month or monthly</td>\n      <td>Yes</td>\n      <td>No, and I don't know what those are</td>\n      <td>Yes, definitely</td>\n      <td>A lot more welcome now than last year</td>\n      <td>Tech articles written by other developers;Indu...</td>\n      <td>24.0</td>\n      <td>Man</td>\n      <td>No</td>\n      <td>Straight / Heterosexual</td>\n      <td>NaN</td>\n      <td>NaN</td>\n      <td>Appropriate in length</td>\n      <td>Neither easy nor difficult</td>\n    </tr>\n    <tr>\n      <th>10</th>\n      <td>I am a developer by profession</td>\n      <td>Yes</td>\n      <td>Once a month or more often</td>\n      <td>OSS is, on average, of HIGHER quality than pro...</td>\n      <td>Employed full-time</td>\n      <td>India</td>\n      <td>No</td>\n      <td>Master’s degree (MA, MS, M.Eng., MBA, etc.)</td>\n      <td>NaN</td>\n      <td>NaN</td>\n      <td>10,000 or more employees</td>\n      <td>Data or business analyst;Data scientist or mac...</td>\n      <td>12</td>\n      <td>20</td>\n      <td>10</td>\n      <td>Slightly dissatisfied</td>\n      <td>Slightly dissatisfied</td>\n      <td>Somewhat confident</td>\n      <td>Yes</td>\n      <td>Yes</td>\n      <td>I’m not actively looking, but I am open to new...</td>\n      <td>3-4 years ago</td>\n      <td>NaN</td>\n      <td>No</td>\n      <td>Languages, frameworks, and other technologies ...</td>\n      <td>NaN</td>\n      <td>INR</td>\n      <td>Indian rupee</td>\n      <td>950000.0</td>\n      <td>Yearly</td>\n      <td>13293.0</td>\n      <td>70.0</td>\n      <td>There's no schedule or spec; I work on what se...</td>\n      <td>NaN</td>\n      <td>A few days each month</td>\n      <td>Home</td>\n      <td>Far above average</td>\n      <td>Yes, because I see value in code review</td>\n      <td>4.0</td>\n      <td>Yes, it's part of our process</td>\n      <td>NaN</td>\n      <td>NaN</td>\n      <td>C#;Go;JavaScript;Python;R;SQL</td>\n      <td>C#;Go;JavaScript;Kotlin;Python;R;SQL</td>\n      <td>Elasticsearch;MongoDB;Microsoft SQL Server;MyS...</td>\n      <td>Elasticsearch;MongoDB;Microsoft SQL Server</td>\n      <td>Linux;Windows</td>\n      <td>Android;Linux;Raspberry Pi;Windows</td>\n      <td>Angular/Angular.js;ASP.NET;Django;Express;Flas...</td>\n      <td>Angular/Angular.js;ASP.NET;Django;Express;Flas...</td>\n      <td>.NET;Node.js;Pandas;Torch/PyTorch</td>\n      <td>.NET;Node.js;TensorFlow;Torch/PyTorch</td>\n      <td>Android Studio;Eclipse;IPython / Jupyter;Notep...</td>\n      <td>Windows</td>\n      <td>NaN</td>\n      <td>Not at all</td>\n      <td>Useful for immutable record keeping outside of...</td>\n      <td>No</td>\n      <td>Yes</td>\n      <td>Yes</td>\n      <td>YouTube</td>\n      <td>Neither</td>\n      <td>Screen Name</td>\n      <td>NaN</td>\n      <td>Multiple times per day</td>\n      <td>Find answers to specific questions;Get a sense...</td>\n      <td>3-5 times per week</td>\n      <td>They were about the same</td>\n      <td>NaN</td>\n      <td>Yes</td>\n      <td>A few times per month or weekly</td>\n      <td>Yes</td>\n      <td>No, and I don't know what those are</td>\n      <td>Yes, somewhat</td>\n      <td>Somewhat less welcome now than last year</td>\n      <td>Tech articles written by other developers;Tech...</td>\n      <td>NaN</td>\n      <td>NaN</td>\n      <td>NaN</td>\n      <td>NaN</td>\n      <td>NaN</td>\n      <td>Yes</td>\n      <td>Too long</td>\n      <td>Difficult</td>\n    </tr>\n  </tbody>\n</table>\n</div>"
     },
     "metadata": {},
     "execution_count": 29
    }
   ],
   "source": [
    "# Inderect Method, Pro : More readability\n",
    "# assign filter conditon to a variable\n",
    "filter_condition = sr_df['Country'] == 'India'\n",
    "# pass in the variable as a DataFrame parameter\n",
    "sr_df[filter_condition].head(2)"
   ]
  },
  {
   "cell_type": "code",
   "execution_count": 30,
   "metadata": {},
   "outputs": [
    {
     "output_type": "execute_result",
     "data": {
      "text/plain": "United States     12192\nUnited Kingdom     1962\nGermany            1386\nCanada             1062\nIndia               255\nName: Country, dtype: int64"
     },
     "metadata": {},
     "execution_count": 30
    }
   ],
   "source": [
    "# example of salary than 70000 USD and with specific column passed in as list\n",
    "# showing the logical & (AND) operator using the country\n",
    "# for multiple countries use the list instead of multiple logical conditions\n",
    "    ## and use (sr_df['Country'].isin(countries) .isin() operator to filter\n",
    "\n",
    "countries = ['India', 'United States', 'United Kingdom', 'Germany', 'Canada']\n",
    "high_salary_fc = (sr_df['ConvertedComp'] > 70000) & (sr_df['Country'].isin(countries))\n",
    "\n",
    "sr_df.loc[high_salary_fc, ['Country', 'LanguageWorkedWith', 'ConvertedComp']]\n",
    "\n",
    "# count of respondents by filter condition and the country\n",
    "sr_df.loc[high_salary_fc, 'Country'].value_counts()"
   ]
  },
  {
   "cell_type": "code",
   "execution_count": 31,
   "metadata": {},
   "outputs": [
    {
     "output_type": "execute_result",
     "data": {
      "text/plain": "                                        MainBranch Hobbyist  \\\nRespondent                                                    \n1           I am a student who is learning to code      Yes   \n2           I am a student who is learning to code       No   \n\n                        OpenSourcer  \\\nRespondent                            \n1                             Never   \n2           Less than once per year   \n\n                                                   OpenSource  \\\nRespondent                                                      \n1           The quality of OSS and closed source software ...   \n2           The quality of OSS and closed source software ...   \n\n                                        Employment                 Country  \\\nRespondent                                                                   \n1           Not employed, and not looking for work          United Kingdom   \n2               Not employed, but looking for work  Bosnia and Herzegovina   \n\n                   Student                                            EdLevel  \\\nRespondent                                                                      \n1                       No                          Primary/elementary school   \n2           Yes, full-time  Secondary school (e.g. American high school, G...   \n\n           UndergradMajor                                           EduOther  \\\nRespondent                                                                     \n1                     NaN  Taught yourself a new language, framework, or ...   \n2                     NaN  Taken an online course in programming or softw...   \n\n           OrgSize                                            DevType  \\\nRespondent                                                              \n1              NaN                                                NaN   \n2              NaN  Developer, desktop or enterprise applications;...   \n\n           YearsCode Age1stCode YearsCodePro CareerSat JobSat MgrIdiot  \\\nRespondent                                                               \n1                  4         10          NaN       NaN    NaN      NaN   \n2                NaN         17          NaN       NaN    NaN      NaN   \n\n           MgrMoney MgrWant                          JobSeek  \\\nRespondent                                                     \n1               NaN     NaN                              NaN   \n2               NaN     NaN  I am actively looking for a job   \n\n                    LastHireDate LastInt FizzBuzz  \\\nRespondent                                          \n1                            NaN     NaN      NaN   \n2           I've never had a job     NaN      NaN   \n\n                                                   JobFactors  \\\nRespondent                                                      \n1                                                         NaN   \n2           Financial performance or funding status of the...   \n\n                                                 ResumeUpdate CurrencySymbol  \\\nRespondent                                                                     \n1                                                         NaN            NaN   \n2           Something else changed (education, award, medi...            NaN   \n\n           CurrencyDesc  CompTotal CompFreq  ConvertedComp  WorkWeekHrs  \\\nRespondent                                                                \n1                   NaN        NaN      NaN            NaN          NaN   \n2                   NaN        NaN      NaN            NaN          NaN   \n\n           WorkPlan WorkChallenge WorkRemote WorkLoc ImpSyn CodeRev  \\\nRespondent                                                            \n1               NaN           NaN        NaN     NaN    NaN     NaN   \n2               NaN           NaN        NaN     NaN    NaN     NaN   \n\n            CodeRevHrs UnitTests PurchaseHow PurchaseWhat  \\\nRespondent                                                  \n1                  NaN       NaN         NaN          NaN   \n2                  NaN       NaN         NaN          NaN   \n\n                         LanguageWorkedWith  \\\nRespondent                                    \n1           HTML/CSS;Java;JavaScript;Python   \n2                       C++;HTML/CSS;Python   \n\n                                     LanguageDesireNextYear  \\\nRespondent                                                    \n1           C;C++;C#;Go;HTML/CSS;Java;JavaScript;Python;SQL   \n2                               C++;HTML/CSS;JavaScript;SQL   \n\n           DatabaseWorkedWith DatabaseDesireNextYear PlatformWorkedWith  \\\nRespondent                                                                \n1                      SQLite                  MySQL      MacOS;Windows   \n2                         NaN                  MySQL            Windows   \n\n             PlatformDesireNextYear WebFrameWorkedWith WebFrameDesireNextYear  \\\nRespondent                                                                      \n1           Android;Arduino;Windows       Django;Flask           Flask;jQuery   \n2                           Windows             Django                 Django   \n\n           MiscTechWorkedWith MiscTechDesireNextYear  \\\nRespondent                                             \n1                     Node.js                Node.js   \n2                         NaN                    NaN   \n\n                            DevEnviron    OpSys               Containers  \\\nRespondent                                                                 \n1           IntelliJ;Notepad++;PyCharm  Windows  I do not use containers   \n2                         Atom;PyCharm  Windows  I do not use containers   \n\n           BlockchainOrg                                       BlockchainIs  \\\nRespondent                                                                    \n1                    NaN                                                NaN   \n2                    NaN  Useful across many domains and could change ma...   \n\n           BetterLife                                  ITperson OffOn  \\\nRespondent                                                              \n1                 Yes  Fortunately, someone else has that title   Yes   \n2                 Yes                                       Yes   Yes   \n\n           SocialMedia Extraversion ScreenName SOVisit1st  \\\nRespondent                                                  \n1              Twitter       Online   Username       2017   \n2            Instagram       Online   Username       2017   \n\n                                SOVisitFreq  \\\nRespondent                                    \n1           A few times per month or weekly   \n2                     Daily or almost daily   \n\n                                                    SOVisitTo  \\\nRespondent                                                      \n1           Find answers to specific questions;Learn how t...   \n2           Find answers to specific questions;Learn how t...   \n\n                  SOFindAnswer                     SOTimeSaved  SOHowMuchTime  \\\nRespondent                                                                      \n1           3-5 times per week  Stack Overflow was much faster  31-60 minutes   \n2           3-5 times per week  Stack Overflow was much faster  11-30 minutes   \n\n           SOAccount                       SOPartFreq  \\\nRespondent                                              \n1                 No                              NaN   \n2                Yes  A few times per month or weekly   \n\n                                                       SOJobs  \\\nRespondent                                                      \n1           No, I didn't know that Stack Overflow had a jo...   \n2           No, I knew that Stack Overflow had a job board...   \n\n                                       EntTeams         SOComm  \\\nRespondent                                                       \n1           No, and I don't know what those are        Neutral   \n2           No, and I don't know what those are  Yes, somewhat   \n\n                                      WelcomeChange  \\\nRespondent                                            \n1           Just as welcome now as I felt last year   \n2           Just as welcome now as I felt last year   \n\n                                                 SONewContent   Age Gender  \\\nRespondent                                                                   \n1           Tech articles written by other developers;Indu...  14.0    Man   \n2           Tech articles written by other developers;Indu...  19.0    Man   \n\n           Trans                Sexuality Ethnicity Dependents  \\\nRespondent                                                       \n1             No  Straight / Heterosexual       NaN         No   \n2             No  Straight / Heterosexual       NaN         No   \n\n                     SurveyLength                  SurveyEase  \nRespondent                                                     \n1           Appropriate in length  Neither easy nor difficult  \n2           Appropriate in length  Neither easy nor difficult  ",
      "text/html": "<div>\n<style scoped>\n    .dataframe tbody tr th:only-of-type {\n        vertical-align: middle;\n    }\n\n    .dataframe tbody tr th {\n        vertical-align: top;\n    }\n\n    .dataframe thead th {\n        text-align: right;\n    }\n</style>\n<table border=\"1\" class=\"dataframe\">\n  <thead>\n    <tr style=\"text-align: right;\">\n      <th></th>\n      <th>MainBranch</th>\n      <th>Hobbyist</th>\n      <th>OpenSourcer</th>\n      <th>OpenSource</th>\n      <th>Employment</th>\n      <th>Country</th>\n      <th>Student</th>\n      <th>EdLevel</th>\n      <th>UndergradMajor</th>\n      <th>EduOther</th>\n      <th>OrgSize</th>\n      <th>DevType</th>\n      <th>YearsCode</th>\n      <th>Age1stCode</th>\n      <th>YearsCodePro</th>\n      <th>CareerSat</th>\n      <th>JobSat</th>\n      <th>MgrIdiot</th>\n      <th>MgrMoney</th>\n      <th>MgrWant</th>\n      <th>JobSeek</th>\n      <th>LastHireDate</th>\n      <th>LastInt</th>\n      <th>FizzBuzz</th>\n      <th>JobFactors</th>\n      <th>ResumeUpdate</th>\n      <th>CurrencySymbol</th>\n      <th>CurrencyDesc</th>\n      <th>CompTotal</th>\n      <th>CompFreq</th>\n      <th>ConvertedComp</th>\n      <th>WorkWeekHrs</th>\n      <th>WorkPlan</th>\n      <th>WorkChallenge</th>\n      <th>WorkRemote</th>\n      <th>WorkLoc</th>\n      <th>ImpSyn</th>\n      <th>CodeRev</th>\n      <th>CodeRevHrs</th>\n      <th>UnitTests</th>\n      <th>PurchaseHow</th>\n      <th>PurchaseWhat</th>\n      <th>LanguageWorkedWith</th>\n      <th>LanguageDesireNextYear</th>\n      <th>DatabaseWorkedWith</th>\n      <th>DatabaseDesireNextYear</th>\n      <th>PlatformWorkedWith</th>\n      <th>PlatformDesireNextYear</th>\n      <th>WebFrameWorkedWith</th>\n      <th>WebFrameDesireNextYear</th>\n      <th>MiscTechWorkedWith</th>\n      <th>MiscTechDesireNextYear</th>\n      <th>DevEnviron</th>\n      <th>OpSys</th>\n      <th>Containers</th>\n      <th>BlockchainOrg</th>\n      <th>BlockchainIs</th>\n      <th>BetterLife</th>\n      <th>ITperson</th>\n      <th>OffOn</th>\n      <th>SocialMedia</th>\n      <th>Extraversion</th>\n      <th>ScreenName</th>\n      <th>SOVisit1st</th>\n      <th>SOVisitFreq</th>\n      <th>SOVisitTo</th>\n      <th>SOFindAnswer</th>\n      <th>SOTimeSaved</th>\n      <th>SOHowMuchTime</th>\n      <th>SOAccount</th>\n      <th>SOPartFreq</th>\n      <th>SOJobs</th>\n      <th>EntTeams</th>\n      <th>SOComm</th>\n      <th>WelcomeChange</th>\n      <th>SONewContent</th>\n      <th>Age</th>\n      <th>Gender</th>\n      <th>Trans</th>\n      <th>Sexuality</th>\n      <th>Ethnicity</th>\n      <th>Dependents</th>\n      <th>SurveyLength</th>\n      <th>SurveyEase</th>\n    </tr>\n    <tr>\n      <th>Respondent</th>\n      <th></th>\n      <th></th>\n      <th></th>\n      <th></th>\n      <th></th>\n      <th></th>\n      <th></th>\n      <th></th>\n      <th></th>\n      <th></th>\n      <th></th>\n      <th></th>\n      <th></th>\n      <th></th>\n      <th></th>\n      <th></th>\n      <th></th>\n      <th></th>\n      <th></th>\n      <th></th>\n      <th></th>\n      <th></th>\n      <th></th>\n      <th></th>\n      <th></th>\n      <th></th>\n      <th></th>\n      <th></th>\n      <th></th>\n      <th></th>\n      <th></th>\n      <th></th>\n      <th></th>\n      <th></th>\n      <th></th>\n      <th></th>\n      <th></th>\n      <th></th>\n      <th></th>\n      <th></th>\n      <th></th>\n      <th></th>\n      <th></th>\n      <th></th>\n      <th></th>\n      <th></th>\n      <th></th>\n      <th></th>\n      <th></th>\n      <th></th>\n      <th></th>\n      <th></th>\n      <th></th>\n      <th></th>\n      <th></th>\n      <th></th>\n      <th></th>\n      <th></th>\n      <th></th>\n      <th></th>\n      <th></th>\n      <th></th>\n      <th></th>\n      <th></th>\n      <th></th>\n      <th></th>\n      <th></th>\n      <th></th>\n      <th></th>\n      <th></th>\n      <th></th>\n      <th></th>\n      <th></th>\n      <th></th>\n      <th></th>\n      <th></th>\n      <th></th>\n      <th></th>\n      <th></th>\n      <th></th>\n      <th></th>\n      <th></th>\n      <th></th>\n      <th></th>\n    </tr>\n  </thead>\n  <tbody>\n    <tr>\n      <th>1</th>\n      <td>I am a student who is learning to code</td>\n      <td>Yes</td>\n      <td>Never</td>\n      <td>The quality of OSS and closed source software ...</td>\n      <td>Not employed, and not looking for work</td>\n      <td>United Kingdom</td>\n      <td>No</td>\n      <td>Primary/elementary school</td>\n      <td>NaN</td>\n      <td>Taught yourself a new language, framework, or ...</td>\n      <td>NaN</td>\n      <td>NaN</td>\n      <td>4</td>\n      <td>10</td>\n      <td>NaN</td>\n      <td>NaN</td>\n      <td>NaN</td>\n      <td>NaN</td>\n      <td>NaN</td>\n      <td>NaN</td>\n      <td>NaN</td>\n      <td>NaN</td>\n      <td>NaN</td>\n      <td>NaN</td>\n      <td>NaN</td>\n      <td>NaN</td>\n      <td>NaN</td>\n      <td>NaN</td>\n      <td>NaN</td>\n      <td>NaN</td>\n      <td>NaN</td>\n      <td>NaN</td>\n      <td>NaN</td>\n      <td>NaN</td>\n      <td>NaN</td>\n      <td>NaN</td>\n      <td>NaN</td>\n      <td>NaN</td>\n      <td>NaN</td>\n      <td>NaN</td>\n      <td>NaN</td>\n      <td>NaN</td>\n      <td>HTML/CSS;Java;JavaScript;Python</td>\n      <td>C;C++;C#;Go;HTML/CSS;Java;JavaScript;Python;SQL</td>\n      <td>SQLite</td>\n      <td>MySQL</td>\n      <td>MacOS;Windows</td>\n      <td>Android;Arduino;Windows</td>\n      <td>Django;Flask</td>\n      <td>Flask;jQuery</td>\n      <td>Node.js</td>\n      <td>Node.js</td>\n      <td>IntelliJ;Notepad++;PyCharm</td>\n      <td>Windows</td>\n      <td>I do not use containers</td>\n      <td>NaN</td>\n      <td>NaN</td>\n      <td>Yes</td>\n      <td>Fortunately, someone else has that title</td>\n      <td>Yes</td>\n      <td>Twitter</td>\n      <td>Online</td>\n      <td>Username</td>\n      <td>2017</td>\n      <td>A few times per month or weekly</td>\n      <td>Find answers to specific questions;Learn how t...</td>\n      <td>3-5 times per week</td>\n      <td>Stack Overflow was much faster</td>\n      <td>31-60 minutes</td>\n      <td>No</td>\n      <td>NaN</td>\n      <td>No, I didn't know that Stack Overflow had a jo...</td>\n      <td>No, and I don't know what those are</td>\n      <td>Neutral</td>\n      <td>Just as welcome now as I felt last year</td>\n      <td>Tech articles written by other developers;Indu...</td>\n      <td>14.0</td>\n      <td>Man</td>\n      <td>No</td>\n      <td>Straight / Heterosexual</td>\n      <td>NaN</td>\n      <td>No</td>\n      <td>Appropriate in length</td>\n      <td>Neither easy nor difficult</td>\n    </tr>\n    <tr>\n      <th>2</th>\n      <td>I am a student who is learning to code</td>\n      <td>No</td>\n      <td>Less than once per year</td>\n      <td>The quality of OSS and closed source software ...</td>\n      <td>Not employed, but looking for work</td>\n      <td>Bosnia and Herzegovina</td>\n      <td>Yes, full-time</td>\n      <td>Secondary school (e.g. American high school, G...</td>\n      <td>NaN</td>\n      <td>Taken an online course in programming or softw...</td>\n      <td>NaN</td>\n      <td>Developer, desktop or enterprise applications;...</td>\n      <td>NaN</td>\n      <td>17</td>\n      <td>NaN</td>\n      <td>NaN</td>\n      <td>NaN</td>\n      <td>NaN</td>\n      <td>NaN</td>\n      <td>NaN</td>\n      <td>I am actively looking for a job</td>\n      <td>I've never had a job</td>\n      <td>NaN</td>\n      <td>NaN</td>\n      <td>Financial performance or funding status of the...</td>\n      <td>Something else changed (education, award, medi...</td>\n      <td>NaN</td>\n      <td>NaN</td>\n      <td>NaN</td>\n      <td>NaN</td>\n      <td>NaN</td>\n      <td>NaN</td>\n      <td>NaN</td>\n      <td>NaN</td>\n      <td>NaN</td>\n      <td>NaN</td>\n      <td>NaN</td>\n      <td>NaN</td>\n      <td>NaN</td>\n      <td>NaN</td>\n      <td>NaN</td>\n      <td>NaN</td>\n      <td>C++;HTML/CSS;Python</td>\n      <td>C++;HTML/CSS;JavaScript;SQL</td>\n      <td>NaN</td>\n      <td>MySQL</td>\n      <td>Windows</td>\n      <td>Windows</td>\n      <td>Django</td>\n      <td>Django</td>\n      <td>NaN</td>\n      <td>NaN</td>\n      <td>Atom;PyCharm</td>\n      <td>Windows</td>\n      <td>I do not use containers</td>\n      <td>NaN</td>\n      <td>Useful across many domains and could change ma...</td>\n      <td>Yes</td>\n      <td>Yes</td>\n      <td>Yes</td>\n      <td>Instagram</td>\n      <td>Online</td>\n      <td>Username</td>\n      <td>2017</td>\n      <td>Daily or almost daily</td>\n      <td>Find answers to specific questions;Learn how t...</td>\n      <td>3-5 times per week</td>\n      <td>Stack Overflow was much faster</td>\n      <td>11-30 minutes</td>\n      <td>Yes</td>\n      <td>A few times per month or weekly</td>\n      <td>No, I knew that Stack Overflow had a job board...</td>\n      <td>No, and I don't know what those are</td>\n      <td>Yes, somewhat</td>\n      <td>Just as welcome now as I felt last year</td>\n      <td>Tech articles written by other developers;Indu...</td>\n      <td>19.0</td>\n      <td>Man</td>\n      <td>No</td>\n      <td>Straight / Heterosexual</td>\n      <td>NaN</td>\n      <td>No</td>\n      <td>Appropriate in length</td>\n      <td>Neither easy nor difficult</td>\n    </tr>\n  </tbody>\n</table>\n</div>"
     },
     "metadata": {},
     "execution_count": 31
    }
   ],
   "source": [
    "# on top of the filter condition also see if the respondents know 'Python' language\n",
    "# the column that specifies the Language known is 'LanguageWorkedWith'\n",
    "# we have to explicitly mention on how to handle the NaN (Not a Number) values else will throw ERROR\n",
    "filter_condition = sr_df['LanguageWorkedWith'].str.contains('Python', na=False)\n",
    "\n",
    "sr_df.loc[filter_condition].head(2)"
   ]
  },
  {
   "cell_type": "markdown",
   "metadata": {},
   "source": [
    "### Pandas : *** Updating Rows and Columns - Modifying Data with in DataFrames ***\n",
    "\n",
    "Making a test data frame of 10 rows and 4 columns from survey_result data frame\n",
    "***"
   ]
  },
  {
   "cell_type": "code",
   "execution_count": 32,
   "metadata": {},
   "outputs": [
    {
     "output_type": "execute_result",
     "data": {
      "text/plain": "                                                   MainBranch Hobbyist  \\\nRespondent                                                               \n6           I am not primarily a developer, but I write co...      Yes   \n13                             I am a developer by profession      Yes   \n16                             I am a developer by profession      Yes   \n22                             I am a developer by profession      Yes   \n26                             I am a developer by profession      Yes   \n29                             I am a developer by profession      Yes   \n32                             I am a developer by profession       No   \n35                             I am a developer by profession       No   \n39                             I am a developer by profession      Yes   \n44                             I am a developer by profession      Yes   \n\n                   Country Student  \nRespondent                          \n6                   Canada      No  \n13           United States      No  \n16          United Kingdom      No  \n22           United States      No  \n26           United States      No  \n29           United States      No  \n32           United States      No  \n35           United States      No  \n39           United States      No  \n44                 Germany      No  ",
      "text/html": "<div>\n<style scoped>\n    .dataframe tbody tr th:only-of-type {\n        vertical-align: middle;\n    }\n\n    .dataframe tbody tr th {\n        vertical-align: top;\n    }\n\n    .dataframe thead th {\n        text-align: right;\n    }\n</style>\n<table border=\"1\" class=\"dataframe\">\n  <thead>\n    <tr style=\"text-align: right;\">\n      <th></th>\n      <th>MainBranch</th>\n      <th>Hobbyist</th>\n      <th>Country</th>\n      <th>Student</th>\n    </tr>\n    <tr>\n      <th>Respondent</th>\n      <th></th>\n      <th></th>\n      <th></th>\n      <th></th>\n    </tr>\n  </thead>\n  <tbody>\n    <tr>\n      <th>6</th>\n      <td>I am not primarily a developer, but I write co...</td>\n      <td>Yes</td>\n      <td>Canada</td>\n      <td>No</td>\n    </tr>\n    <tr>\n      <th>13</th>\n      <td>I am a developer by profession</td>\n      <td>Yes</td>\n      <td>United States</td>\n      <td>No</td>\n    </tr>\n    <tr>\n      <th>16</th>\n      <td>I am a developer by profession</td>\n      <td>Yes</td>\n      <td>United Kingdom</td>\n      <td>No</td>\n    </tr>\n    <tr>\n      <th>22</th>\n      <td>I am a developer by profession</td>\n      <td>Yes</td>\n      <td>United States</td>\n      <td>No</td>\n    </tr>\n    <tr>\n      <th>26</th>\n      <td>I am a developer by profession</td>\n      <td>Yes</td>\n      <td>United States</td>\n      <td>No</td>\n    </tr>\n    <tr>\n      <th>29</th>\n      <td>I am a developer by profession</td>\n      <td>Yes</td>\n      <td>United States</td>\n      <td>No</td>\n    </tr>\n    <tr>\n      <th>32</th>\n      <td>I am a developer by profession</td>\n      <td>No</td>\n      <td>United States</td>\n      <td>No</td>\n    </tr>\n    <tr>\n      <th>35</th>\n      <td>I am a developer by profession</td>\n      <td>No</td>\n      <td>United States</td>\n      <td>No</td>\n    </tr>\n    <tr>\n      <th>39</th>\n      <td>I am a developer by profession</td>\n      <td>Yes</td>\n      <td>United States</td>\n      <td>No</td>\n    </tr>\n    <tr>\n      <th>44</th>\n      <td>I am a developer by profession</td>\n      <td>Yes</td>\n      <td>Germany</td>\n      <td>No</td>\n    </tr>\n  </tbody>\n</table>\n</div>"
     },
     "metadata": {},
     "execution_count": 32
    }
   ],
   "source": [
    "# sample data frame for analysis\n",
    "sample = sr_df.loc[high_salary_fc, ['MainBranch','Hobbyist', 'Country', 'Student']].head(10)\n",
    "sample"
   ]
  },
  {
   "cell_type": "code",
   "execution_count": 33,
   "metadata": {},
   "outputs": [
    {
     "output_type": "execute_result",
     "data": {
      "text/plain": "                                                   MAINBRANCH HOBBYIST  \\\nRespondent                                                               \n6           I am not primarily a developer, but I write co...      Yes   \n13                             I am a developer by profession      Yes   \n16                             I am a developer by profession      Yes   \n22                             I am a developer by profession      Yes   \n26                             I am a developer by profession      Yes   \n29                             I am a developer by profession      Yes   \n32                             I am a developer by profession       No   \n35                             I am a developer by profession       No   \n39                             I am a developer by profession      Yes   \n44                             I am a developer by profession      Yes   \n\n                   COUNTRY STUDENT  \nRespondent                          \n6                   Canada      No  \n13           United States      No  \n16          United Kingdom      No  \n22           United States      No  \n26           United States      No  \n29           United States      No  \n32           United States      No  \n35           United States      No  \n39           United States      No  \n44                 Germany      No  ",
      "text/html": "<div>\n<style scoped>\n    .dataframe tbody tr th:only-of-type {\n        vertical-align: middle;\n    }\n\n    .dataframe tbody tr th {\n        vertical-align: top;\n    }\n\n    .dataframe thead th {\n        text-align: right;\n    }\n</style>\n<table border=\"1\" class=\"dataframe\">\n  <thead>\n    <tr style=\"text-align: right;\">\n      <th></th>\n      <th>MAINBRANCH</th>\n      <th>HOBBYIST</th>\n      <th>COUNTRY</th>\n      <th>STUDENT</th>\n    </tr>\n    <tr>\n      <th>Respondent</th>\n      <th></th>\n      <th></th>\n      <th></th>\n      <th></th>\n    </tr>\n  </thead>\n  <tbody>\n    <tr>\n      <th>6</th>\n      <td>I am not primarily a developer, but I write co...</td>\n      <td>Yes</td>\n      <td>Canada</td>\n      <td>No</td>\n    </tr>\n    <tr>\n      <th>13</th>\n      <td>I am a developer by profession</td>\n      <td>Yes</td>\n      <td>United States</td>\n      <td>No</td>\n    </tr>\n    <tr>\n      <th>16</th>\n      <td>I am a developer by profession</td>\n      <td>Yes</td>\n      <td>United Kingdom</td>\n      <td>No</td>\n    </tr>\n    <tr>\n      <th>22</th>\n      <td>I am a developer by profession</td>\n      <td>Yes</td>\n      <td>United States</td>\n      <td>No</td>\n    </tr>\n    <tr>\n      <th>26</th>\n      <td>I am a developer by profession</td>\n      <td>Yes</td>\n      <td>United States</td>\n      <td>No</td>\n    </tr>\n    <tr>\n      <th>29</th>\n      <td>I am a developer by profession</td>\n      <td>Yes</td>\n      <td>United States</td>\n      <td>No</td>\n    </tr>\n    <tr>\n      <th>32</th>\n      <td>I am a developer by profession</td>\n      <td>No</td>\n      <td>United States</td>\n      <td>No</td>\n    </tr>\n    <tr>\n      <th>35</th>\n      <td>I am a developer by profession</td>\n      <td>No</td>\n      <td>United States</td>\n      <td>No</td>\n    </tr>\n    <tr>\n      <th>39</th>\n      <td>I am a developer by profession</td>\n      <td>Yes</td>\n      <td>United States</td>\n      <td>No</td>\n    </tr>\n    <tr>\n      <th>44</th>\n      <td>I am a developer by profession</td>\n      <td>Yes</td>\n      <td>Germany</td>\n      <td>No</td>\n    </tr>\n  </tbody>\n</table>\n</div>"
     },
     "metadata": {},
     "execution_count": 33
    }
   ],
   "source": [
    "# Updating the column names ex. making all the column names to UPPER CASE\n",
    "sample.columns = list(map(lambda x : x.upper(),list(sample.columns)))\n",
    "#same can be achived with out lambda function using list comprehension\n",
    "sample.columns = [x.upper() for x in sample.columns]\n",
    "sample\n",
    "# this method will rename and update all the columns in the DataFrame"
   ]
  },
  {
   "cell_type": "code",
   "execution_count": 34,
   "metadata": {},
   "outputs": [
    {
     "output_type": "execute_result",
     "data": {
      "text/plain": "{'MAINBRANCH': 'Mainbranch',\n 'HOBBYIST': 'Hobbyist',\n 'COUNTRY': 'Country',\n 'STUDENT': 'Student'}"
     },
     "metadata": {},
     "execution_count": 34
    }
   ],
   "source": [
    "# To update or rename a particular column or a list of columns, we will be using (.rename(columns=('key':'value'), inplace=True)) function by passing in a dictionary with Key, Value pairs\n",
    "\n",
    "# Current column names\n",
    "current_names = list(sample.columns)\n",
    "# the column names which needs to be updated ex.from UPPER to Capitalize\n",
    "to_names = [x.capitalize() for x in current_names]\n",
    "# make a dictionary from the above 2 lists\n",
    "col_name_dict = dict(zip(current_names, to_names))\n",
    "col_name_dict"
   ]
  },
  {
   "cell_type": "code",
   "execution_count": 35,
   "metadata": {},
   "outputs": [
    {
     "output_type": "execute_result",
     "data": {
      "text/plain": "                                                   Mainbranch Hobbyist  \\\nRespondent                                                               \n6           I am not primarily a developer, but I write co...      Yes   \n13                             I am a developer by profession      Yes   \n16                             I am a developer by profession      Yes   \n22                             I am a developer by profession      Yes   \n26                             I am a developer by profession      Yes   \n29                             I am a developer by profession      Yes   \n32                             I am a developer by profession       No   \n35                             I am a developer by profession       No   \n39                             I am a developer by profession      Yes   \n44                             I am a developer by profession      Yes   \n\n                   Country Student  \nRespondent                          \n6                   Canada      No  \n13           United States      No  \n16          United Kingdom      No  \n22           United States      No  \n26           United States      No  \n29           United States      No  \n32           United States      No  \n35           United States      No  \n39           United States      No  \n44                 Germany      No  ",
      "text/html": "<div>\n<style scoped>\n    .dataframe tbody tr th:only-of-type {\n        vertical-align: middle;\n    }\n\n    .dataframe tbody tr th {\n        vertical-align: top;\n    }\n\n    .dataframe thead th {\n        text-align: right;\n    }\n</style>\n<table border=\"1\" class=\"dataframe\">\n  <thead>\n    <tr style=\"text-align: right;\">\n      <th></th>\n      <th>Mainbranch</th>\n      <th>Hobbyist</th>\n      <th>Country</th>\n      <th>Student</th>\n    </tr>\n    <tr>\n      <th>Respondent</th>\n      <th></th>\n      <th></th>\n      <th></th>\n      <th></th>\n    </tr>\n  </thead>\n  <tbody>\n    <tr>\n      <th>6</th>\n      <td>I am not primarily a developer, but I write co...</td>\n      <td>Yes</td>\n      <td>Canada</td>\n      <td>No</td>\n    </tr>\n    <tr>\n      <th>13</th>\n      <td>I am a developer by profession</td>\n      <td>Yes</td>\n      <td>United States</td>\n      <td>No</td>\n    </tr>\n    <tr>\n      <th>16</th>\n      <td>I am a developer by profession</td>\n      <td>Yes</td>\n      <td>United Kingdom</td>\n      <td>No</td>\n    </tr>\n    <tr>\n      <th>22</th>\n      <td>I am a developer by profession</td>\n      <td>Yes</td>\n      <td>United States</td>\n      <td>No</td>\n    </tr>\n    <tr>\n      <th>26</th>\n      <td>I am a developer by profession</td>\n      <td>Yes</td>\n      <td>United States</td>\n      <td>No</td>\n    </tr>\n    <tr>\n      <th>29</th>\n      <td>I am a developer by profession</td>\n      <td>Yes</td>\n      <td>United States</td>\n      <td>No</td>\n    </tr>\n    <tr>\n      <th>32</th>\n      <td>I am a developer by profession</td>\n      <td>No</td>\n      <td>United States</td>\n      <td>No</td>\n    </tr>\n    <tr>\n      <th>35</th>\n      <td>I am a developer by profession</td>\n      <td>No</td>\n      <td>United States</td>\n      <td>No</td>\n    </tr>\n    <tr>\n      <th>39</th>\n      <td>I am a developer by profession</td>\n      <td>Yes</td>\n      <td>United States</td>\n      <td>No</td>\n    </tr>\n    <tr>\n      <th>44</th>\n      <td>I am a developer by profession</td>\n      <td>Yes</td>\n      <td>Germany</td>\n      <td>No</td>\n    </tr>\n  </tbody>\n</table>\n</div>"
     },
     "metadata": {},
     "execution_count": 35
    }
   ],
   "source": [
    "# Updating a particular column name using a dictionary(Key , Value pair) and the parameter \"inplace=True\" to make is permanent\n",
    "sample.rename(columns=col_name_dict, inplace=True)\n",
    "sample"
   ]
  },
  {
   "cell_type": "code",
   "execution_count": 36,
   "metadata": {},
   "outputs": [
    {
     "output_type": "execute_result",
     "data": {
      "text/plain": "'Y'"
     },
     "metadata": {},
     "execution_count": 36
    }
   ],
   "source": [
    "# Updating values in a cell\n",
    "# for example in sample DataFrame change the first row Hobbyist value from 'Yes' to 'Y'\n",
    "sample.loc[6,'Hobbyist'] = 'Y'\n",
    "sample.iloc[0,1] = 'Y'\n",
    "sample.loc[6,'Hobbyist']"
   ]
  },
  {
   "cell_type": "code",
   "execution_count": 37,
   "metadata": {},
   "outputs": [
    {
     "output_type": "execute_result",
     "data": {
      "text/plain": "                                                   Mainbranch Hobbyist  \\\nRespondent                                                               \n6           I am not primarily a developer, but I write co...        Y   \n13                             I am a developer by profession      Yes   \n16                             I am a developer by profession        Y   \n22                             I am a developer by profession      Yes   \n26                             I am a developer by profession      Yes   \n29                             I am a developer by profession      Yes   \n32                             I am a developer by profession       No   \n35                             I am a developer by profession       No   \n39                             I am a developer by profession      Yes   \n44                             I am a developer by profession      Yes   \n\n                   Country Student  \nRespondent                          \n6                   Canada      No  \n13           United States      No  \n16          United Kingdom      No  \n22           United States      No  \n26           United States      No  \n29           United States      No  \n32           United States      No  \n35           United States      No  \n39           United States      No  \n44                 Germany      No  ",
      "text/html": "<div>\n<style scoped>\n    .dataframe tbody tr th:only-of-type {\n        vertical-align: middle;\n    }\n\n    .dataframe tbody tr th {\n        vertical-align: top;\n    }\n\n    .dataframe thead th {\n        text-align: right;\n    }\n</style>\n<table border=\"1\" class=\"dataframe\">\n  <thead>\n    <tr style=\"text-align: right;\">\n      <th></th>\n      <th>Mainbranch</th>\n      <th>Hobbyist</th>\n      <th>Country</th>\n      <th>Student</th>\n    </tr>\n    <tr>\n      <th>Respondent</th>\n      <th></th>\n      <th></th>\n      <th></th>\n      <th></th>\n    </tr>\n  </thead>\n  <tbody>\n    <tr>\n      <th>6</th>\n      <td>I am not primarily a developer, but I write co...</td>\n      <td>Y</td>\n      <td>Canada</td>\n      <td>No</td>\n    </tr>\n    <tr>\n      <th>13</th>\n      <td>I am a developer by profession</td>\n      <td>Yes</td>\n      <td>United States</td>\n      <td>No</td>\n    </tr>\n    <tr>\n      <th>16</th>\n      <td>I am a developer by profession</td>\n      <td>Y</td>\n      <td>United Kingdom</td>\n      <td>No</td>\n    </tr>\n    <tr>\n      <th>22</th>\n      <td>I am a developer by profession</td>\n      <td>Yes</td>\n      <td>United States</td>\n      <td>No</td>\n    </tr>\n    <tr>\n      <th>26</th>\n      <td>I am a developer by profession</td>\n      <td>Yes</td>\n      <td>United States</td>\n      <td>No</td>\n    </tr>\n    <tr>\n      <th>29</th>\n      <td>I am a developer by profession</td>\n      <td>Yes</td>\n      <td>United States</td>\n      <td>No</td>\n    </tr>\n    <tr>\n      <th>32</th>\n      <td>I am a developer by profession</td>\n      <td>No</td>\n      <td>United States</td>\n      <td>No</td>\n    </tr>\n    <tr>\n      <th>35</th>\n      <td>I am a developer by profession</td>\n      <td>No</td>\n      <td>United States</td>\n      <td>No</td>\n    </tr>\n    <tr>\n      <th>39</th>\n      <td>I am a developer by profession</td>\n      <td>Yes</td>\n      <td>United States</td>\n      <td>No</td>\n    </tr>\n    <tr>\n      <th>44</th>\n      <td>I am a developer by profession</td>\n      <td>Yes</td>\n      <td>Germany</td>\n      <td>No</td>\n    </tr>\n  </tbody>\n</table>\n</div>"
     },
     "metadata": {},
     "execution_count": 37
    }
   ],
   "source": [
    "# no if you want to update the cell base on a filter condition\n",
    "# example change Hobbyist column 'Yes' to 'Y' where the 'Country' is 'United Kingdom'\n",
    "# should always use .loc, else the code returns a copy of a DataFrame and not the exact DataFrame reference value\n",
    "filter_con_update = (sample['Country'] == 'United Kingdom')\n",
    "sample.loc[filter_con_update, 'Hobbyist'] = 'Y'\n",
    "sample"
   ]
  },
  {
   "cell_type": "code",
   "execution_count": 38,
   "metadata": {},
   "outputs": [
    {
     "output_type": "execute_result",
     "data": {
      "text/plain": "                                                   Mainbranch Hobbyist  \\\nRespondent                                                               \n6           I am not primarily a developer, but I write co...        Y   \n13                             I am a developer by profession      Yes   \n16                             I am a developer by profession        Y   \n22                             I am a developer by profession      Yes   \n26                             I am a developer by profession      Yes   \n29                             I am a developer by profession      Yes   \n32                             I am a developer by profession       No   \n35                             I am a developer by profession       No   \n39                             I am a developer by profession      Yes   \n44                             I am a developer by profession      Yes   \n\n                   Country Student  \nRespondent                          \n6                   canada      No  \n13           united states      No  \n16          united kingdom      No  \n22           united states      No  \n26           united states      No  \n29           united states      No  \n32           united states      No  \n35           united states      No  \n39           united states      No  \n44                 germany      No  ",
      "text/html": "<div>\n<style scoped>\n    .dataframe tbody tr th:only-of-type {\n        vertical-align: middle;\n    }\n\n    .dataframe tbody tr th {\n        vertical-align: top;\n    }\n\n    .dataframe thead th {\n        text-align: right;\n    }\n</style>\n<table border=\"1\" class=\"dataframe\">\n  <thead>\n    <tr style=\"text-align: right;\">\n      <th></th>\n      <th>Mainbranch</th>\n      <th>Hobbyist</th>\n      <th>Country</th>\n      <th>Student</th>\n    </tr>\n    <tr>\n      <th>Respondent</th>\n      <th></th>\n      <th></th>\n      <th></th>\n      <th></th>\n    </tr>\n  </thead>\n  <tbody>\n    <tr>\n      <th>6</th>\n      <td>I am not primarily a developer, but I write co...</td>\n      <td>Y</td>\n      <td>canada</td>\n      <td>No</td>\n    </tr>\n    <tr>\n      <th>13</th>\n      <td>I am a developer by profession</td>\n      <td>Yes</td>\n      <td>united states</td>\n      <td>No</td>\n    </tr>\n    <tr>\n      <th>16</th>\n      <td>I am a developer by profession</td>\n      <td>Y</td>\n      <td>united kingdom</td>\n      <td>No</td>\n    </tr>\n    <tr>\n      <th>22</th>\n      <td>I am a developer by profession</td>\n      <td>Yes</td>\n      <td>united states</td>\n      <td>No</td>\n    </tr>\n    <tr>\n      <th>26</th>\n      <td>I am a developer by profession</td>\n      <td>Yes</td>\n      <td>united states</td>\n      <td>No</td>\n    </tr>\n    <tr>\n      <th>29</th>\n      <td>I am a developer by profession</td>\n      <td>Yes</td>\n      <td>united states</td>\n      <td>No</td>\n    </tr>\n    <tr>\n      <th>32</th>\n      <td>I am a developer by profession</td>\n      <td>No</td>\n      <td>united states</td>\n      <td>No</td>\n    </tr>\n    <tr>\n      <th>35</th>\n      <td>I am a developer by profession</td>\n      <td>No</td>\n      <td>united states</td>\n      <td>No</td>\n    </tr>\n    <tr>\n      <th>39</th>\n      <td>I am a developer by profession</td>\n      <td>Yes</td>\n      <td>united states</td>\n      <td>No</td>\n    </tr>\n    <tr>\n      <th>44</th>\n      <td>I am a developer by profession</td>\n      <td>Yes</td>\n      <td>germany</td>\n      <td>No</td>\n    </tr>\n  </tbody>\n</table>\n</div>"
     },
     "metadata": {},
     "execution_count": 38
    }
   ],
   "source": [
    "# change all the values of a particular column\n",
    "# example, change all the values in the 'Country' column to lower case\n",
    "sample['Country'] = sample['Country'].str.lower()\n",
    "sample"
   ]
  },
  {
   "cell_type": "markdown",
   "metadata": {},
   "source": [
    "# Pandas Filters : \n",
    "### what if you want to update the values of a Pandas DataFrame using more conditions and complex logics\n",
    "### then we use 4 methods\n",
    "|** methods **|\n",
    "|--------|\n",
    "|apply   |\n",
    "|map     |\n",
    "|applymap|\n",
    "|replace |\n",
    "\n",
    "### apply : can work on DataFrame and DataSeries"
   ]
  },
  {
   "cell_type": "code",
   "execution_count": 39,
   "metadata": {},
   "outputs": [
    {
     "output_type": "execute_result",
     "data": {
      "text/plain": "Respondent\n6             CANADA\n13     UNITED STATES\n16    UNITED KINGDOM\n22     UNITED STATES\n26     UNITED STATES\n29     UNITED STATES\n32     UNITED STATES\n35     UNITED STATES\n39     UNITED STATES\n44           GERMANY\nName: Country, dtype: object"
     },
     "metadata": {},
     "execution_count": 39
    }
   ],
   "source": [
    "# apply with series: example on a DataSeries\n",
    "sample['Country'].apply(len)\n",
    "\n",
    "# example 2 using a funtion to pass all values through apply\n",
    "def upper_case(val):\n",
    "    return val.upper()\n",
    "\n",
    "sample['Country'].apply(upper_case)"
   ]
  },
  {
   "cell_type": "code",
   "execution_count": 40,
   "metadata": {},
   "outputs": [
    {
     "output_type": "execute_result",
     "data": {
      "text/plain": "                                                   Mainbranch Hobbyist  \\\nRespondent                                                               \n6           I am not primarily a developer, but I write co...        Y   \n13                             I am a developer by profession      Yes   \n16                             I am a developer by profession        Y   \n22                             I am a developer by profession      Yes   \n26                             I am a developer by profession      Yes   \n29                             I am a developer by profession      Yes   \n32                             I am a developer by profession       No   \n35                             I am a developer by profession       No   \n39                             I am a developer by profession      Yes   \n44                             I am a developer by profession      Yes   \n\n                   Country Student  \nRespondent                          \n6                   CANADA      No  \n13           UNITED STATES      No  \n16          UNITED KINGDOM      No  \n22           UNITED STATES      No  \n26           UNITED STATES      No  \n29           UNITED STATES      No  \n32           UNITED STATES      No  \n35           UNITED STATES      No  \n39           UNITED STATES      No  \n44                 GERMANY      No  ",
      "text/html": "<div>\n<style scoped>\n    .dataframe tbody tr th:only-of-type {\n        vertical-align: middle;\n    }\n\n    .dataframe tbody tr th {\n        vertical-align: top;\n    }\n\n    .dataframe thead th {\n        text-align: right;\n    }\n</style>\n<table border=\"1\" class=\"dataframe\">\n  <thead>\n    <tr style=\"text-align: right;\">\n      <th></th>\n      <th>Mainbranch</th>\n      <th>Hobbyist</th>\n      <th>Country</th>\n      <th>Student</th>\n    </tr>\n    <tr>\n      <th>Respondent</th>\n      <th></th>\n      <th></th>\n      <th></th>\n      <th></th>\n    </tr>\n  </thead>\n  <tbody>\n    <tr>\n      <th>6</th>\n      <td>I am not primarily a developer, but I write co...</td>\n      <td>Y</td>\n      <td>CANADA</td>\n      <td>No</td>\n    </tr>\n    <tr>\n      <th>13</th>\n      <td>I am a developer by profession</td>\n      <td>Yes</td>\n      <td>UNITED STATES</td>\n      <td>No</td>\n    </tr>\n    <tr>\n      <th>16</th>\n      <td>I am a developer by profession</td>\n      <td>Y</td>\n      <td>UNITED KINGDOM</td>\n      <td>No</td>\n    </tr>\n    <tr>\n      <th>22</th>\n      <td>I am a developer by profession</td>\n      <td>Yes</td>\n      <td>UNITED STATES</td>\n      <td>No</td>\n    </tr>\n    <tr>\n      <th>26</th>\n      <td>I am a developer by profession</td>\n      <td>Yes</td>\n      <td>UNITED STATES</td>\n      <td>No</td>\n    </tr>\n    <tr>\n      <th>29</th>\n      <td>I am a developer by profession</td>\n      <td>Yes</td>\n      <td>UNITED STATES</td>\n      <td>No</td>\n    </tr>\n    <tr>\n      <th>32</th>\n      <td>I am a developer by profession</td>\n      <td>No</td>\n      <td>UNITED STATES</td>\n      <td>No</td>\n    </tr>\n    <tr>\n      <th>35</th>\n      <td>I am a developer by profession</td>\n      <td>No</td>\n      <td>UNITED STATES</td>\n      <td>No</td>\n    </tr>\n    <tr>\n      <th>39</th>\n      <td>I am a developer by profession</td>\n      <td>Yes</td>\n      <td>UNITED STATES</td>\n      <td>No</td>\n    </tr>\n    <tr>\n      <th>44</th>\n      <td>I am a developer by profession</td>\n      <td>Yes</td>\n      <td>GERMANY</td>\n      <td>No</td>\n    </tr>\n  </tbody>\n</table>\n</div>"
     },
     "metadata": {},
     "execution_count": 40
    }
   ],
   "source": [
    "# apply with series: using lambda function to do simple tasks\n",
    "sample['Country'] = sample['Country'].apply(lambda x : x.upper())\n",
    "sample"
   ]
  },
  {
   "cell_type": "code",
   "execution_count": null,
   "metadata": {},
   "outputs": [],
   "source": []
  }
 ],
 "metadata": {
  "kernelspec": {
   "name": "python3",
   "display_name": "Python 3.9.0 64-bit",
   "metadata": {
    "interpreter": {
     "hash": "456a7bca7b7f08090ca64898a9580aecf8ccee74f1e5a323a82709711c275647"
    }
   }
  },
  "language_info": {
   "codemirror_mode": {
    "name": "ipython",
    "version": 3
   },
   "file_extension": ".py",
   "mimetype": "text/x-python",
   "name": "python",
   "nbconvert_exporter": "python",
   "pygments_lexer": "ipython3",
   "version": "3.9.0-final"
  }
 },
 "nbformat": 4,
 "nbformat_minor": 4
}