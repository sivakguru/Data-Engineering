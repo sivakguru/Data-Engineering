{
 "cells": [
  {
   "cell_type": "markdown",
   "metadata": {},
   "source": [
    "## *Getting started*\n",
    "---"
   ]
  },
  {
   "cell_type": "code",
   "execution_count": 1,
   "metadata": {},
   "outputs": [],
   "source": [
    "# pandas package for data exploration\n",
    "import pandas as pd"
   ]
  },
  {
   "cell_type": "code",
   "execution_count": 2,
   "metadata": {},
   "outputs": [],
   "source": [
    "#load CSV file as a data frame\n",
    "# a data frame is a 2 dimensional object (simply rows and columns)\n",
    "sr_df = pd.read_csv('C:\\\\Users\\\\sivkumar\\\\Documents\\\\Study Materials\\\\Data\\\\developer_survey_2019\\\\survey_results_public.csv', header='infer', sep=',')"
   ]
  },
  {
   "cell_type": "code",
   "execution_count": 3,
   "metadata": {},
   "outputs": [
    {
     "output_type": "execute_result",
     "data": {
      "text/plain": "   Respondent                                         MainBranch Hobbyist  \\\n0           1             I am a student who is learning to code      Yes   \n1           2             I am a student who is learning to code       No   \n2           3  I am not primarily a developer, but I write co...      Yes   \n3           4                     I am a developer by profession       No   \n4           5                     I am a developer by profession      Yes   \n\n                  OpenSourcer  \\\n0                       Never   \n1     Less than once per year   \n2                       Never   \n3                       Never   \n4  Once a month or more often   \n\n                                          OpenSource  \\\n0  The quality of OSS and closed source software ...   \n1  The quality of OSS and closed source software ...   \n2  The quality of OSS and closed source software ...   \n3  The quality of OSS and closed source software ...   \n4  OSS is, on average, of HIGHER quality than pro...   \n\n                               Employment                 Country  \\\n0  Not employed, and not looking for work          United Kingdom   \n1      Not employed, but looking for work  Bosnia and Herzegovina   \n2                      Employed full-time                Thailand   \n3                      Employed full-time           United States   \n4                      Employed full-time                 Ukraine   \n\n          Student                                            EdLevel  \\\n0              No                          Primary/elementary school   \n1  Yes, full-time  Secondary school (e.g. American high school, G...   \n2              No           Bachelor’s degree (BA, BS, B.Eng., etc.)   \n3              No           Bachelor’s degree (BA, BS, B.Eng., etc.)   \n4              No           Bachelor’s degree (BA, BS, B.Eng., etc.)   \n\n                                      UndergradMajor  ...  \\\n0                                                NaN  ...   \n1                                                NaN  ...   \n2                      Web development or web design  ...   \n3  Computer science, computer engineering, or sof...  ...   \n4  Computer science, computer engineering, or sof...  ...   \n\n                             WelcomeChange  \\\n0  Just as welcome now as I felt last year   \n1  Just as welcome now as I felt last year   \n2  Just as welcome now as I felt last year   \n3  Just as welcome now as I felt last year   \n4  Just as welcome now as I felt last year   \n\n                                        SONewContent   Age Gender Trans  \\\n0  Tech articles written by other developers;Indu...  14.0    Man    No   \n1  Tech articles written by other developers;Indu...  19.0    Man    No   \n2  Tech meetups or events in your area;Courses on...  28.0    Man    No   \n3  Tech articles written by other developers;Indu...  22.0    Man    No   \n4  Tech meetups or events in your area;Courses on...  30.0    Man    No   \n\n                 Sexuality                                 Ethnicity  \\\n0  Straight / Heterosexual                                       NaN   \n1  Straight / Heterosexual                                       NaN   \n2  Straight / Heterosexual                                       NaN   \n3  Straight / Heterosexual              White or of European descent   \n4  Straight / Heterosexual  White or of European descent;Multiracial   \n\n  Dependents           SurveyLength                  SurveyEase  \n0         No  Appropriate in length  Neither easy nor difficult  \n1         No  Appropriate in length  Neither easy nor difficult  \n2        Yes  Appropriate in length  Neither easy nor difficult  \n3         No  Appropriate in length                        Easy  \n4         No  Appropriate in length                        Easy  \n\n[5 rows x 85 columns]",
      "text/html": "<div>\n<style scoped>\n    .dataframe tbody tr th:only-of-type {\n        vertical-align: middle;\n    }\n\n    .dataframe tbody tr th {\n        vertical-align: top;\n    }\n\n    .dataframe thead th {\n        text-align: right;\n    }\n</style>\n<table border=\"1\" class=\"dataframe\">\n  <thead>\n    <tr style=\"text-align: right;\">\n      <th></th>\n      <th>Respondent</th>\n      <th>MainBranch</th>\n      <th>Hobbyist</th>\n      <th>OpenSourcer</th>\n      <th>OpenSource</th>\n      <th>Employment</th>\n      <th>Country</th>\n      <th>Student</th>\n      <th>EdLevel</th>\n      <th>UndergradMajor</th>\n      <th>...</th>\n      <th>WelcomeChange</th>\n      <th>SONewContent</th>\n      <th>Age</th>\n      <th>Gender</th>\n      <th>Trans</th>\n      <th>Sexuality</th>\n      <th>Ethnicity</th>\n      <th>Dependents</th>\n      <th>SurveyLength</th>\n      <th>SurveyEase</th>\n    </tr>\n  </thead>\n  <tbody>\n    <tr>\n      <th>0</th>\n      <td>1</td>\n      <td>I am a student who is learning to code</td>\n      <td>Yes</td>\n      <td>Never</td>\n      <td>The quality of OSS and closed source software ...</td>\n      <td>Not employed, and not looking for work</td>\n      <td>United Kingdom</td>\n      <td>No</td>\n      <td>Primary/elementary school</td>\n      <td>NaN</td>\n      <td>...</td>\n      <td>Just as welcome now as I felt last year</td>\n      <td>Tech articles written by other developers;Indu...</td>\n      <td>14.0</td>\n      <td>Man</td>\n      <td>No</td>\n      <td>Straight / Heterosexual</td>\n      <td>NaN</td>\n      <td>No</td>\n      <td>Appropriate in length</td>\n      <td>Neither easy nor difficult</td>\n    </tr>\n    <tr>\n      <th>1</th>\n      <td>2</td>\n      <td>I am a student who is learning to code</td>\n      <td>No</td>\n      <td>Less than once per year</td>\n      <td>The quality of OSS and closed source software ...</td>\n      <td>Not employed, but looking for work</td>\n      <td>Bosnia and Herzegovina</td>\n      <td>Yes, full-time</td>\n      <td>Secondary school (e.g. American high school, G...</td>\n      <td>NaN</td>\n      <td>...</td>\n      <td>Just as welcome now as I felt last year</td>\n      <td>Tech articles written by other developers;Indu...</td>\n      <td>19.0</td>\n      <td>Man</td>\n      <td>No</td>\n      <td>Straight / Heterosexual</td>\n      <td>NaN</td>\n      <td>No</td>\n      <td>Appropriate in length</td>\n      <td>Neither easy nor difficult</td>\n    </tr>\n    <tr>\n      <th>2</th>\n      <td>3</td>\n      <td>I am not primarily a developer, but I write co...</td>\n      <td>Yes</td>\n      <td>Never</td>\n      <td>The quality of OSS and closed source software ...</td>\n      <td>Employed full-time</td>\n      <td>Thailand</td>\n      <td>No</td>\n      <td>Bachelor’s degree (BA, BS, B.Eng., etc.)</td>\n      <td>Web development or web design</td>\n      <td>...</td>\n      <td>Just as welcome now as I felt last year</td>\n      <td>Tech meetups or events in your area;Courses on...</td>\n      <td>28.0</td>\n      <td>Man</td>\n      <td>No</td>\n      <td>Straight / Heterosexual</td>\n      <td>NaN</td>\n      <td>Yes</td>\n      <td>Appropriate in length</td>\n      <td>Neither easy nor difficult</td>\n    </tr>\n    <tr>\n      <th>3</th>\n      <td>4</td>\n      <td>I am a developer by profession</td>\n      <td>No</td>\n      <td>Never</td>\n      <td>The quality of OSS and closed source software ...</td>\n      <td>Employed full-time</td>\n      <td>United States</td>\n      <td>No</td>\n      <td>Bachelor’s degree (BA, BS, B.Eng., etc.)</td>\n      <td>Computer science, computer engineering, or sof...</td>\n      <td>...</td>\n      <td>Just as welcome now as I felt last year</td>\n      <td>Tech articles written by other developers;Indu...</td>\n      <td>22.0</td>\n      <td>Man</td>\n      <td>No</td>\n      <td>Straight / Heterosexual</td>\n      <td>White or of European descent</td>\n      <td>No</td>\n      <td>Appropriate in length</td>\n      <td>Easy</td>\n    </tr>\n    <tr>\n      <th>4</th>\n      <td>5</td>\n      <td>I am a developer by profession</td>\n      <td>Yes</td>\n      <td>Once a month or more often</td>\n      <td>OSS is, on average, of HIGHER quality than pro...</td>\n      <td>Employed full-time</td>\n      <td>Ukraine</td>\n      <td>No</td>\n      <td>Bachelor’s degree (BA, BS, B.Eng., etc.)</td>\n      <td>Computer science, computer engineering, or sof...</td>\n      <td>...</td>\n      <td>Just as welcome now as I felt last year</td>\n      <td>Tech meetups or events in your area;Courses on...</td>\n      <td>30.0</td>\n      <td>Man</td>\n      <td>No</td>\n      <td>Straight / Heterosexual</td>\n      <td>White or of European descent;Multiracial</td>\n      <td>No</td>\n      <td>Appropriate in length</td>\n      <td>Easy</td>\n    </tr>\n  </tbody>\n</table>\n<p>5 rows × 85 columns</p>\n</div>"
     },
     "metadata": {},
     "execution_count": 3
    }
   ],
   "source": [
    "#first 5 lines of the data frame\n",
    "sr_df.head()"
   ]
  },
  {
   "cell_type": "code",
   "execution_count": 4,
   "metadata": {},
   "outputs": [
    {
     "output_type": "execute_result",
     "data": {
      "text/plain": "(88883, 85)"
     },
     "metadata": {},
     "execution_count": 4
    }
   ],
   "source": [
    "#the no. of rows X Columns\n",
    "sr_df.shape"
   ]
  },
  {
   "cell_type": "code",
   "execution_count": 5,
   "metadata": {},
   "outputs": [
    {
     "output_type": "stream",
     "name": "stdout",
     "text": "<class 'pandas.core.frame.DataFrame'>\nRangeIndex: 88883 entries, 0 to 88882\nData columns (total 85 columns):\nRespondent                88883 non-null int64\nMainBranch                88331 non-null object\nHobbyist                  88883 non-null object\nOpenSourcer               88883 non-null object\nOpenSource                86842 non-null object\nEmployment                87181 non-null object\nCountry                   88751 non-null object\nStudent                   87014 non-null object\nEdLevel                   86390 non-null object\nUndergradMajor            75614 non-null object\nEduOther                  84260 non-null object\nOrgSize                   71791 non-null object\nDevType                   81335 non-null object\nYearsCode                 87938 non-null object\nAge1stCode                87634 non-null object\nYearsCodePro              74331 non-null object\nCareerSat                 72847 non-null object\nJobSat                    70988 non-null object\nMgrIdiot                  61159 non-null object\nMgrMoney                  61157 non-null object\nMgrWant                   61232 non-null object\nJobSeek                   80555 non-null object\nLastHireDate              79854 non-null object\nLastInt                   67155 non-null object\nFizzBuzz                  71344 non-null object\nJobFactors                79371 non-null object\nResumeUpdate              77877 non-null object\nCurrencySymbol            71392 non-null object\nCurrencyDesc              71392 non-null object\nCompTotal                 55945 non-null float64\nCompFreq                  63268 non-null object\nConvertedComp             55823 non-null float64\nWorkWeekHrs               64503 non-null float64\nWorkPlan                  68914 non-null object\nWorkChallenge             68141 non-null object\nWorkRemote                70284 non-null object\nWorkLoc                   70055 non-null object\nImpSyn                    71779 non-null object\nCodeRev                   70390 non-null object\nCodeRevHrs                49790 non-null float64\nUnitTests                 62668 non-null object\nPurchaseHow               61108 non-null object\nPurchaseWhat              62029 non-null object\nLanguageWorkedWith        87569 non-null object\nLanguageDesireNextYear    84088 non-null object\nDatabaseWorkedWith        76026 non-null object\nDatabaseDesireNextYear    69147 non-null object\nPlatformWorkedWith        80714 non-null object\nPlatformDesireNextYear    77443 non-null object\nWebFrameWorkedWith        65022 non-null object\nWebFrameDesireNextYear    62944 non-null object\nMiscTechWorkedWith        59586 non-null object\nMiscTechDesireNextYear    64511 non-null object\nDevEnviron                87317 non-null object\nOpSys                     87851 non-null object\nContainers                85366 non-null object\nBlockchainOrg             48175 non-null object\nBlockchainIs              60165 non-null object\nBetterLife                86269 non-null object\nITperson                  87141 non-null object\nOffOn                     86663 non-null object\nSocialMedia               84437 non-null object\nExtraversion              87305 non-null object\nScreenName                80486 non-null object\nSOVisit1st                83877 non-null object\nSOVisitFreq               88263 non-null object\nSOVisitTo                 88086 non-null object\nSOFindAnswer              87816 non-null object\nSOTimeSaved               86344 non-null object\nSOHowMuchTime             68378 non-null object\nSOAccount                 87828 non-null object\nSOPartFreq                74692 non-null object\nSOJobs                    88066 non-null object\nEntTeams                  87841 non-null object\nSOComm                    88131 non-null object\nWelcomeChange             85855 non-null object\nSONewContent              69560 non-null object\nAge                       79210 non-null float64\nGender                    85406 non-null object\nTrans                     83607 non-null object\nSexuality                 76147 non-null object\nEthnicity                 76668 non-null object\nDependents                83059 non-null object\nSurveyLength              86984 non-null object\nSurveyEase                87081 non-null object\ndtypes: float64(5), int64(1), object(79)\nmemory usage: 57.6+ MB\n"
    }
   ],
   "source": [
    "# complete information about the data frame\n",
    "sr_df.info()"
   ]
  },
  {
   "cell_type": "code",
   "execution_count": 6,
   "metadata": {},
   "outputs": [],
   "source": [
    "# set display option to view all the columns with out hiding\n",
    "pd.set_option('display.max_columns', 85)"
   ]
  },
  {
   "cell_type": "code",
   "execution_count": 7,
   "metadata": {},
   "outputs": [],
   "source": [
    "#read CSV data in to data frame\n",
    "schema_df = pd.read_csv('C:\\\\Users\\\\sivkumar\\\\Documents\\\\Study Materials\\\\Data\\\\developer_survey_2019\\\\survey_results_schema.csv', header='infer', sep=',')"
   ]
  },
  {
   "cell_type": "code",
   "execution_count": 8,
   "metadata": {},
   "outputs": [
    {
     "output_type": "execute_result",
     "data": {
      "text/plain": "        Column                                       QuestionText\n0   Respondent  Randomized respondent ID number (not in order ...\n1   MainBranch  Which of the following options best describes ...\n2     Hobbyist                            Do you code as a hobby?\n3  OpenSourcer        How often do you contribute to open source?\n4   OpenSource  How do you feel about the quality of open sour...",
      "text/html": "<div>\n<style scoped>\n    .dataframe tbody tr th:only-of-type {\n        vertical-align: middle;\n    }\n\n    .dataframe tbody tr th {\n        vertical-align: top;\n    }\n\n    .dataframe thead th {\n        text-align: right;\n    }\n</style>\n<table border=\"1\" class=\"dataframe\">\n  <thead>\n    <tr style=\"text-align: right;\">\n      <th></th>\n      <th>Column</th>\n      <th>QuestionText</th>\n    </tr>\n  </thead>\n  <tbody>\n    <tr>\n      <th>0</th>\n      <td>Respondent</td>\n      <td>Randomized respondent ID number (not in order ...</td>\n    </tr>\n    <tr>\n      <th>1</th>\n      <td>MainBranch</td>\n      <td>Which of the following options best describes ...</td>\n    </tr>\n    <tr>\n      <th>2</th>\n      <td>Hobbyist</td>\n      <td>Do you code as a hobby?</td>\n    </tr>\n    <tr>\n      <th>3</th>\n      <td>OpenSourcer</td>\n      <td>How often do you contribute to open source?</td>\n    </tr>\n    <tr>\n      <th>4</th>\n      <td>OpenSource</td>\n      <td>How do you feel about the quality of open sour...</td>\n    </tr>\n  </tbody>\n</table>\n</div>"
     },
     "metadata": {},
     "execution_count": 8
    }
   ],
   "source": [
    "#returns first 5 lines of the data frame\n",
    "schema_df.head()"
   ]
  },
  {
   "cell_type": "code",
   "execution_count": 9,
   "metadata": {},
   "outputs": [
    {
     "output_type": "execute_result",
     "data": {
      "text/plain": "           Column                                       QuestionText\n75  WelcomeChange  Compared to last year, how welcome do you feel...\n76   SONewContent  Would you like to see any of the following on ...\n77            Age  What is your age (in years)? If you prefer not...\n78         Gender  Which of the following do you currently identi...\n79          Trans                    Do you identify as transgender?\n80      Sexuality  Which of the following do you currently identi...\n81      Ethnicity  Which of the following do you identify as? Ple...\n82     Dependents  Do you have any dependents (e.g., children, el...\n83   SurveyLength  How do you feel about the length of the survey...\n84     SurveyEase  How easy or difficult was this survey to compl...",
      "text/html": "<div>\n<style scoped>\n    .dataframe tbody tr th:only-of-type {\n        vertical-align: middle;\n    }\n\n    .dataframe tbody tr th {\n        vertical-align: top;\n    }\n\n    .dataframe thead th {\n        text-align: right;\n    }\n</style>\n<table border=\"1\" class=\"dataframe\">\n  <thead>\n    <tr style=\"text-align: right;\">\n      <th></th>\n      <th>Column</th>\n      <th>QuestionText</th>\n    </tr>\n  </thead>\n  <tbody>\n    <tr>\n      <th>75</th>\n      <td>WelcomeChange</td>\n      <td>Compared to last year, how welcome do you feel...</td>\n    </tr>\n    <tr>\n      <th>76</th>\n      <td>SONewContent</td>\n      <td>Would you like to see any of the following on ...</td>\n    </tr>\n    <tr>\n      <th>77</th>\n      <td>Age</td>\n      <td>What is your age (in years)? If you prefer not...</td>\n    </tr>\n    <tr>\n      <th>78</th>\n      <td>Gender</td>\n      <td>Which of the following do you currently identi...</td>\n    </tr>\n    <tr>\n      <th>79</th>\n      <td>Trans</td>\n      <td>Do you identify as transgender?</td>\n    </tr>\n    <tr>\n      <th>80</th>\n      <td>Sexuality</td>\n      <td>Which of the following do you currently identi...</td>\n    </tr>\n    <tr>\n      <th>81</th>\n      <td>Ethnicity</td>\n      <td>Which of the following do you identify as? Ple...</td>\n    </tr>\n    <tr>\n      <th>82</th>\n      <td>Dependents</td>\n      <td>Do you have any dependents (e.g., children, el...</td>\n    </tr>\n    <tr>\n      <th>83</th>\n      <td>SurveyLength</td>\n      <td>How do you feel about the length of the survey...</td>\n    </tr>\n    <tr>\n      <th>84</th>\n      <td>SurveyEase</td>\n      <td>How easy or difficult was this survey to compl...</td>\n    </tr>\n  </tbody>\n</table>\n</div>"
     },
     "metadata": {},
     "execution_count": 9
    }
   ],
   "source": [
    "# last 10 rows in the data frame\n",
    "schema_df.tail(10)"
   ]
  },
  {
   "cell_type": "code",
   "execution_count": 10,
   "metadata": {},
   "outputs": [
    {
     "output_type": "execute_result",
     "data": {
      "text/plain": "Index(['Column', 'QuestionText'], dtype='object')"
     },
     "metadata": {},
     "execution_count": 10
    }
   ],
   "source": [
    "#this shows the column indexes\n",
    "schema_df.columns"
   ]
  },
  {
   "cell_type": "markdown",
   "metadata": {},
   "source": [
    "## *Pandas Data frame and Pandas Data Series*\n",
    "---"
   ]
  },
  {
   "cell_type": "code",
   "execution_count": 11,
   "metadata": {},
   "outputs": [
    {
     "output_type": "execute_result",
     "data": {
      "text/plain": "0            United Kingdom\n1    Bosnia and Herzegovina\n2                  Thailand\n3             United States\n4                   Ukraine\nName: Country, dtype: object"
     },
     "metadata": {},
     "execution_count": 11
    }
   ],
   "source": [
    "#access one column as a panads series\n",
    "sr_df['Country'].head()"
   ]
  },
  {
   "cell_type": "code",
   "execution_count": 12,
   "metadata": {},
   "outputs": [
    {
     "output_type": "execute_result",
     "data": {
      "text/plain": "                  Country\n0          United Kingdom\n1  Bosnia and Herzegovina\n2                Thailand\n3           United States\n4                 Ukraine",
      "text/html": "<div>\n<style scoped>\n    .dataframe tbody tr th:only-of-type {\n        vertical-align: middle;\n    }\n\n    .dataframe tbody tr th {\n        vertical-align: top;\n    }\n\n    .dataframe thead th {\n        text-align: right;\n    }\n</style>\n<table border=\"1\" class=\"dataframe\">\n  <thead>\n    <tr style=\"text-align: right;\">\n      <th></th>\n      <th>Country</th>\n    </tr>\n  </thead>\n  <tbody>\n    <tr>\n      <th>0</th>\n      <td>United Kingdom</td>\n    </tr>\n    <tr>\n      <th>1</th>\n      <td>Bosnia and Herzegovina</td>\n    </tr>\n    <tr>\n      <th>2</th>\n      <td>Thailand</td>\n    </tr>\n    <tr>\n      <th>3</th>\n      <td>United States</td>\n    </tr>\n    <tr>\n      <th>4</th>\n      <td>Ukraine</td>\n    </tr>\n  </tbody>\n</table>\n</div>"
     },
     "metadata": {},
     "execution_count": 12
    }
   ],
   "source": [
    "#access one column as a pandas data frame, then pass in the columns name as a list\n",
    "sr_df[['Country']].head()"
   ]
  },
  {
   "cell_type": "code",
   "execution_count": 13,
   "metadata": {},
   "outputs": [
    {
     "output_type": "execute_result",
     "data": {
      "text/plain": "                  Country         Student\n0          United Kingdom              No\n1  Bosnia and Herzegovina  Yes, full-time\n2                Thailand              No\n3           United States              No\n4                 Ukraine              No",
      "text/html": "<div>\n<style scoped>\n    .dataframe tbody tr th:only-of-type {\n        vertical-align: middle;\n    }\n\n    .dataframe tbody tr th {\n        vertical-align: top;\n    }\n\n    .dataframe thead th {\n        text-align: right;\n    }\n</style>\n<table border=\"1\" class=\"dataframe\">\n  <thead>\n    <tr style=\"text-align: right;\">\n      <th></th>\n      <th>Country</th>\n      <th>Student</th>\n    </tr>\n  </thead>\n  <tbody>\n    <tr>\n      <th>0</th>\n      <td>United Kingdom</td>\n      <td>No</td>\n    </tr>\n    <tr>\n      <th>1</th>\n      <td>Bosnia and Herzegovina</td>\n      <td>Yes, full-time</td>\n    </tr>\n    <tr>\n      <th>2</th>\n      <td>Thailand</td>\n      <td>No</td>\n    </tr>\n    <tr>\n      <th>3</th>\n      <td>United States</td>\n      <td>No</td>\n    </tr>\n    <tr>\n      <th>4</th>\n      <td>Ukraine</td>\n      <td>No</td>\n    </tr>\n  </tbody>\n</table>\n</div>"
     },
     "metadata": {},
     "execution_count": 13
    }
   ],
   "source": [
    "#access multiple columns, then pass in the column names as a list for ex. ['Country','Student']\n",
    "sr_df[['Country','Student']].head()"
   ]
  },
  {
   "cell_type": "code",
   "execution_count": 14,
   "metadata": {},
   "outputs": [
    {
     "output_type": "execute_result",
     "data": {
      "text/plain": "Respondent                                                      1\nMainBranch                 I am a student who is learning to code\nHobbyist                                                      Yes\nOpenSourcer                                                 Never\nOpenSource      The quality of OSS and closed source software ...\n                                      ...                        \nSexuality                                 Straight / Heterosexual\nEthnicity                                                     NaN\nDependents                                                     No\nSurveyLength                                Appropriate in length\nSurveyEase                             Neither easy nor difficult\nName: 0, Length: 85, dtype: object"
     },
     "metadata": {},
     "execution_count": 14
    }
   ],
   "source": [
    "# \".iloc\" means (Integer Location) where in the Integer is the Index in terms of data frame\n",
    "# for ex : sr_df.iloc[0] means 1st row of data frame as a (Pandas series)\n",
    "# for ex : sr_df.iloc[[0]] means 1st row of data frame as a (Pandas data frame)\n",
    "sr_df.iloc[[0]]\n",
    "\n",
    "sr_df.iloc[0]"
   ]
  },
  {
   "cell_type": "code",
   "execution_count": 15,
   "metadata": {},
   "outputs": [
    {
     "output_type": "execute_result",
     "data": {
      "text/plain": "                  Country         Student\n0          United Kingdom              No\n1  Bosnia and Herzegovina  Yes, full-time",
      "text/html": "<div>\n<style scoped>\n    .dataframe tbody tr th:only-of-type {\n        vertical-align: middle;\n    }\n\n    .dataframe tbody tr th {\n        vertical-align: top;\n    }\n\n    .dataframe thead th {\n        text-align: right;\n    }\n</style>\n<table border=\"1\" class=\"dataframe\">\n  <thead>\n    <tr style=\"text-align: right;\">\n      <th></th>\n      <th>Country</th>\n      <th>Student</th>\n    </tr>\n  </thead>\n  <tbody>\n    <tr>\n      <th>0</th>\n      <td>United Kingdom</td>\n      <td>No</td>\n    </tr>\n    <tr>\n      <th>1</th>\n      <td>Bosnia and Herzegovina</td>\n      <td>Yes, full-time</td>\n    </tr>\n  </tbody>\n</table>\n</div>"
     },
     "metadata": {},
     "execution_count": 15
    }
   ],
   "source": [
    "#to access 2 rows as a data frame using .iloc then pass in the row indexes as a list\n",
    "sr_df.iloc[[0,1],[6,7]]"
   ]
  },
  {
   "cell_type": "code",
   "execution_count": 16,
   "metadata": {},
   "outputs": [
    {
     "output_type": "execute_result",
     "data": {
      "text/plain": "   Respondent                              MainBranch Hobbyist OpenSourcer  \\\n0           1  I am a student who is learning to code      Yes       Never   \n\n                                          OpenSource  \\\n0  The quality of OSS and closed source software ...   \n\n                               Employment         Country Student  \\\n0  Not employed, and not looking for work  United Kingdom      No   \n\n                     EdLevel UndergradMajor  \\\n0  Primary/elementary school            NaN   \n\n                                            EduOther OrgSize DevType  \\\n0  Taught yourself a new language, framework, or ...     NaN     NaN   \n\n  YearsCode Age1stCode YearsCodePro CareerSat JobSat MgrIdiot MgrMoney  \\\n0         4         10          NaN       NaN    NaN      NaN      NaN   \n\n  MgrWant JobSeek LastHireDate LastInt FizzBuzz JobFactors ResumeUpdate  \\\n0     NaN     NaN          NaN     NaN      NaN        NaN          NaN   \n\n  CurrencySymbol CurrencyDesc  CompTotal CompFreq  ConvertedComp  WorkWeekHrs  \\\n0            NaN          NaN        NaN      NaN            NaN          NaN   \n\n  WorkPlan WorkChallenge WorkRemote WorkLoc ImpSyn CodeRev  CodeRevHrs  \\\n0      NaN           NaN        NaN     NaN    NaN     NaN         NaN   \n\n  UnitTests PurchaseHow PurchaseWhat               LanguageWorkedWith  \\\n0       NaN         NaN          NaN  HTML/CSS;Java;JavaScript;Python   \n\n                            LanguageDesireNextYear DatabaseWorkedWith  \\\n0  C;C++;C#;Go;HTML/CSS;Java;JavaScript;Python;SQL             SQLite   \n\n  DatabaseDesireNextYear PlatformWorkedWith   PlatformDesireNextYear  \\\n0                  MySQL      MacOS;Windows  Android;Arduino;Windows   \n\n  WebFrameWorkedWith WebFrameDesireNextYear MiscTechWorkedWith  \\\n0       Django;Flask           Flask;jQuery            Node.js   \n\n  MiscTechDesireNextYear                  DevEnviron    OpSys  \\\n0                Node.js  IntelliJ;Notepad++;PyCharm  Windows   \n\n                Containers BlockchainOrg BlockchainIs BetterLife  \\\n0  I do not use containers           NaN          NaN        Yes   \n\n                                   ITperson OffOn SocialMedia Extraversion  \\\n0  Fortunately, someone else has that title   Yes     Twitter       Online   \n\n  ScreenName SOVisit1st                      SOVisitFreq  \\\n0   Username       2017  A few times per month or weekly   \n\n                                           SOVisitTo        SOFindAnswer  \\\n0  Find answers to specific questions;Learn how t...  3-5 times per week   \n\n                      SOTimeSaved  SOHowMuchTime SOAccount SOPartFreq  \\\n0  Stack Overflow was much faster  31-60 minutes        No        NaN   \n\n                                              SOJobs  \\\n0  No, I didn't know that Stack Overflow had a jo...   \n\n                              EntTeams   SOComm  \\\n0  No, and I don't know what those are  Neutral   \n\n                             WelcomeChange  \\\n0  Just as welcome now as I felt last year   \n\n                                        SONewContent   Age Gender Trans  \\\n0  Tech articles written by other developers;Indu...  14.0    Man    No   \n\n                 Sexuality Ethnicity Dependents           SurveyLength  \\\n0  Straight / Heterosexual       NaN         No  Appropriate in length   \n\n                   SurveyEase  \n0  Neither easy nor difficult  ",
      "text/html": "<div>\n<style scoped>\n    .dataframe tbody tr th:only-of-type {\n        vertical-align: middle;\n    }\n\n    .dataframe tbody tr th {\n        vertical-align: top;\n    }\n\n    .dataframe thead th {\n        text-align: right;\n    }\n</style>\n<table border=\"1\" class=\"dataframe\">\n  <thead>\n    <tr style=\"text-align: right;\">\n      <th></th>\n      <th>Respondent</th>\n      <th>MainBranch</th>\n      <th>Hobbyist</th>\n      <th>OpenSourcer</th>\n      <th>OpenSource</th>\n      <th>Employment</th>\n      <th>Country</th>\n      <th>Student</th>\n      <th>EdLevel</th>\n      <th>UndergradMajor</th>\n      <th>EduOther</th>\n      <th>OrgSize</th>\n      <th>DevType</th>\n      <th>YearsCode</th>\n      <th>Age1stCode</th>\n      <th>YearsCodePro</th>\n      <th>CareerSat</th>\n      <th>JobSat</th>\n      <th>MgrIdiot</th>\n      <th>MgrMoney</th>\n      <th>MgrWant</th>\n      <th>JobSeek</th>\n      <th>LastHireDate</th>\n      <th>LastInt</th>\n      <th>FizzBuzz</th>\n      <th>JobFactors</th>\n      <th>ResumeUpdate</th>\n      <th>CurrencySymbol</th>\n      <th>CurrencyDesc</th>\n      <th>CompTotal</th>\n      <th>CompFreq</th>\n      <th>ConvertedComp</th>\n      <th>WorkWeekHrs</th>\n      <th>WorkPlan</th>\n      <th>WorkChallenge</th>\n      <th>WorkRemote</th>\n      <th>WorkLoc</th>\n      <th>ImpSyn</th>\n      <th>CodeRev</th>\n      <th>CodeRevHrs</th>\n      <th>UnitTests</th>\n      <th>PurchaseHow</th>\n      <th>PurchaseWhat</th>\n      <th>LanguageWorkedWith</th>\n      <th>LanguageDesireNextYear</th>\n      <th>DatabaseWorkedWith</th>\n      <th>DatabaseDesireNextYear</th>\n      <th>PlatformWorkedWith</th>\n      <th>PlatformDesireNextYear</th>\n      <th>WebFrameWorkedWith</th>\n      <th>WebFrameDesireNextYear</th>\n      <th>MiscTechWorkedWith</th>\n      <th>MiscTechDesireNextYear</th>\n      <th>DevEnviron</th>\n      <th>OpSys</th>\n      <th>Containers</th>\n      <th>BlockchainOrg</th>\n      <th>BlockchainIs</th>\n      <th>BetterLife</th>\n      <th>ITperson</th>\n      <th>OffOn</th>\n      <th>SocialMedia</th>\n      <th>Extraversion</th>\n      <th>ScreenName</th>\n      <th>SOVisit1st</th>\n      <th>SOVisitFreq</th>\n      <th>SOVisitTo</th>\n      <th>SOFindAnswer</th>\n      <th>SOTimeSaved</th>\n      <th>SOHowMuchTime</th>\n      <th>SOAccount</th>\n      <th>SOPartFreq</th>\n      <th>SOJobs</th>\n      <th>EntTeams</th>\n      <th>SOComm</th>\n      <th>WelcomeChange</th>\n      <th>SONewContent</th>\n      <th>Age</th>\n      <th>Gender</th>\n      <th>Trans</th>\n      <th>Sexuality</th>\n      <th>Ethnicity</th>\n      <th>Dependents</th>\n      <th>SurveyLength</th>\n      <th>SurveyEase</th>\n    </tr>\n  </thead>\n  <tbody>\n    <tr>\n      <th>0</th>\n      <td>1</td>\n      <td>I am a student who is learning to code</td>\n      <td>Yes</td>\n      <td>Never</td>\n      <td>The quality of OSS and closed source software ...</td>\n      <td>Not employed, and not looking for work</td>\n      <td>United Kingdom</td>\n      <td>No</td>\n      <td>Primary/elementary school</td>\n      <td>NaN</td>\n      <td>Taught yourself a new language, framework, or ...</td>\n      <td>NaN</td>\n      <td>NaN</td>\n      <td>4</td>\n      <td>10</td>\n      <td>NaN</td>\n      <td>NaN</td>\n      <td>NaN</td>\n      <td>NaN</td>\n      <td>NaN</td>\n      <td>NaN</td>\n      <td>NaN</td>\n      <td>NaN</td>\n      <td>NaN</td>\n      <td>NaN</td>\n      <td>NaN</td>\n      <td>NaN</td>\n      <td>NaN</td>\n      <td>NaN</td>\n      <td>NaN</td>\n      <td>NaN</td>\n      <td>NaN</td>\n      <td>NaN</td>\n      <td>NaN</td>\n      <td>NaN</td>\n      <td>NaN</td>\n      <td>NaN</td>\n      <td>NaN</td>\n      <td>NaN</td>\n      <td>NaN</td>\n      <td>NaN</td>\n      <td>NaN</td>\n      <td>NaN</td>\n      <td>HTML/CSS;Java;JavaScript;Python</td>\n      <td>C;C++;C#;Go;HTML/CSS;Java;JavaScript;Python;SQL</td>\n      <td>SQLite</td>\n      <td>MySQL</td>\n      <td>MacOS;Windows</td>\n      <td>Android;Arduino;Windows</td>\n      <td>Django;Flask</td>\n      <td>Flask;jQuery</td>\n      <td>Node.js</td>\n      <td>Node.js</td>\n      <td>IntelliJ;Notepad++;PyCharm</td>\n      <td>Windows</td>\n      <td>I do not use containers</td>\n      <td>NaN</td>\n      <td>NaN</td>\n      <td>Yes</td>\n      <td>Fortunately, someone else has that title</td>\n      <td>Yes</td>\n      <td>Twitter</td>\n      <td>Online</td>\n      <td>Username</td>\n      <td>2017</td>\n      <td>A few times per month or weekly</td>\n      <td>Find answers to specific questions;Learn how t...</td>\n      <td>3-5 times per week</td>\n      <td>Stack Overflow was much faster</td>\n      <td>31-60 minutes</td>\n      <td>No</td>\n      <td>NaN</td>\n      <td>No, I didn't know that Stack Overflow had a jo...</td>\n      <td>No, and I don't know what those are</td>\n      <td>Neutral</td>\n      <td>Just as welcome now as I felt last year</td>\n      <td>Tech articles written by other developers;Indu...</td>\n      <td>14.0</td>\n      <td>Man</td>\n      <td>No</td>\n      <td>Straight / Heterosexual</td>\n      <td>NaN</td>\n      <td>No</td>\n      <td>Appropriate in length</td>\n      <td>Neither easy nor difficult</td>\n    </tr>\n  </tbody>\n</table>\n</div>"
     },
     "metadata": {},
     "execution_count": 16
    }
   ],
   "source": [
    "# Similar to iloc, we have \"loc\" which uses any of the index, where in it can be of lables\n",
    "sr_df.loc[0] # pandas series\n",
    "\n",
    "sr_df.loc[[0]] # pandas data frame"
   ]
  },
  {
   "cell_type": "code",
   "execution_count": 17,
   "metadata": {},
   "outputs": [
    {
     "output_type": "execute_result",
     "data": {
      "text/plain": "                  Country         Student\n0          United Kingdom              No\n1  Bosnia and Herzegovina  Yes, full-time",
      "text/html": "<div>\n<style scoped>\n    .dataframe tbody tr th:only-of-type {\n        vertical-align: middle;\n    }\n\n    .dataframe tbody tr th {\n        vertical-align: top;\n    }\n\n    .dataframe thead th {\n        text-align: right;\n    }\n</style>\n<table border=\"1\" class=\"dataframe\">\n  <thead>\n    <tr style=\"text-align: right;\">\n      <th></th>\n      <th>Country</th>\n      <th>Student</th>\n    </tr>\n  </thead>\n  <tbody>\n    <tr>\n      <th>0</th>\n      <td>United Kingdom</td>\n      <td>No</td>\n    </tr>\n    <tr>\n      <th>1</th>\n      <td>Bosnia and Herzegovina</td>\n      <td>Yes, full-time</td>\n    </tr>\n  </tbody>\n</table>\n</div>"
     },
     "metadata": {},
     "execution_count": 17
    }
   ],
   "source": [
    "# loc with column lables and rows lables(which are indexes)\n",
    "sr_df.loc[[0,1],['Country','Student']]"
   ]
  },
  {
   "cell_type": "code",
   "execution_count": 18,
   "metadata": {},
   "outputs": [
    {
     "output_type": "execute_result",
     "data": {
      "text/plain": "Yes    71257\nNo     17626\nName: Hobbyist, dtype: int64"
     },
     "metadata": {},
     "execution_count": 18
    }
   ],
   "source": [
    "# value_counts() for categorical data columns\n",
    "sr_df['Hobbyist'].value_counts()"
   ]
  },
  {
   "cell_type": "code",
   "execution_count": 32,
   "metadata": {},
   "outputs": [
    {
     "output_type": "execute_result",
     "data": {
      "text/plain": "   Respondent                                         MainBranch Hobbyist  \\\n0           1             I am a student who is learning to code      Yes   \n1           2             I am a student who is learning to code       No   \n2           3  I am not primarily a developer, but I write co...      Yes   \n3           4                     I am a developer by profession       No   \n4           5                     I am a developer by profession      Yes   \n5           6  I am not primarily a developer, but I write co...      Yes   \n\n                  OpenSourcer  \\\n0                       Never   \n1     Less than once per year   \n2                       Never   \n3                       Never   \n4  Once a month or more often   \n5                       Never   \n\n                                          OpenSource  \\\n0  The quality of OSS and closed source software ...   \n1  The quality of OSS and closed source software ...   \n2  The quality of OSS and closed source software ...   \n3  The quality of OSS and closed source software ...   \n4  OSS is, on average, of HIGHER quality than pro...   \n5  The quality of OSS and closed source software ...   \n\n                               Employment                 Country  \n0  Not employed, and not looking for work          United Kingdom  \n1      Not employed, but looking for work  Bosnia and Herzegovina  \n2                      Employed full-time                Thailand  \n3                      Employed full-time           United States  \n4                      Employed full-time                 Ukraine  \n5                      Employed full-time                  Canada  ",
      "text/html": "<div>\n<style scoped>\n    .dataframe tbody tr th:only-of-type {\n        vertical-align: middle;\n    }\n\n    .dataframe tbody tr th {\n        vertical-align: top;\n    }\n\n    .dataframe thead th {\n        text-align: right;\n    }\n</style>\n<table border=\"1\" class=\"dataframe\">\n  <thead>\n    <tr style=\"text-align: right;\">\n      <th></th>\n      <th>Respondent</th>\n      <th>MainBranch</th>\n      <th>Hobbyist</th>\n      <th>OpenSourcer</th>\n      <th>OpenSource</th>\n      <th>Employment</th>\n      <th>Country</th>\n    </tr>\n  </thead>\n  <tbody>\n    <tr>\n      <th>0</th>\n      <td>1</td>\n      <td>I am a student who is learning to code</td>\n      <td>Yes</td>\n      <td>Never</td>\n      <td>The quality of OSS and closed source software ...</td>\n      <td>Not employed, and not looking for work</td>\n      <td>United Kingdom</td>\n    </tr>\n    <tr>\n      <th>1</th>\n      <td>2</td>\n      <td>I am a student who is learning to code</td>\n      <td>No</td>\n      <td>Less than once per year</td>\n      <td>The quality of OSS and closed source software ...</td>\n      <td>Not employed, but looking for work</td>\n      <td>Bosnia and Herzegovina</td>\n    </tr>\n    <tr>\n      <th>2</th>\n      <td>3</td>\n      <td>I am not primarily a developer, but I write co...</td>\n      <td>Yes</td>\n      <td>Never</td>\n      <td>The quality of OSS and closed source software ...</td>\n      <td>Employed full-time</td>\n      <td>Thailand</td>\n    </tr>\n    <tr>\n      <th>3</th>\n      <td>4</td>\n      <td>I am a developer by profession</td>\n      <td>No</td>\n      <td>Never</td>\n      <td>The quality of OSS and closed source software ...</td>\n      <td>Employed full-time</td>\n      <td>United States</td>\n    </tr>\n    <tr>\n      <th>4</th>\n      <td>5</td>\n      <td>I am a developer by profession</td>\n      <td>Yes</td>\n      <td>Once a month or more often</td>\n      <td>OSS is, on average, of HIGHER quality than pro...</td>\n      <td>Employed full-time</td>\n      <td>Ukraine</td>\n    </tr>\n    <tr>\n      <th>5</th>\n      <td>6</td>\n      <td>I am not primarily a developer, but I write co...</td>\n      <td>Yes</td>\n      <td>Never</td>\n      <td>The quality of OSS and closed source software ...</td>\n      <td>Employed full-time</td>\n      <td>Canada</td>\n    </tr>\n  </tbody>\n</table>\n</div>"
     },
     "metadata": {},
     "execution_count": 32
    }
   ],
   "source": [
    "# when we want to use loc to slice and dice by a range of rows and columns, we do not pass in the values as a [<list>]\n",
    "# we pass in the rows values as a range for ex. 0:5 for top 6 rows\n",
    "# 'Respondent':'Student' for columns from respondent to student\n",
    "\n",
    "sr_df.loc[0:5, 'Respondent':'Country']"
   ]
  },
  {
   "cell_type": "markdown",
   "metadata": {},
   "source": [
    "### Pandas : ***Indexes***\n",
    "* index is like a primary_key to the table\n",
    "---"
   ]
  },
  {
   "cell_type": "code",
   "execution_count": 34,
   "metadata": {},
   "outputs": [
    {
     "output_type": "execute_result",
     "data": {
      "text/plain": "        Column                                       QuestionText\n0   Respondent  Randomized respondent ID number (not in order ...\n1   MainBranch  Which of the following options best describes ...\n2     Hobbyist                            Do you code as a hobby?\n3  OpenSourcer        How often do you contribute to open source?\n4   OpenSource  How do you feel about the quality of open sour...",
      "text/html": "<div>\n<style scoped>\n    .dataframe tbody tr th:only-of-type {\n        vertical-align: middle;\n    }\n\n    .dataframe tbody tr th {\n        vertical-align: top;\n    }\n\n    .dataframe thead th {\n        text-align: right;\n    }\n</style>\n<table border=\"1\" class=\"dataframe\">\n  <thead>\n    <tr style=\"text-align: right;\">\n      <th></th>\n      <th>Column</th>\n      <th>QuestionText</th>\n    </tr>\n  </thead>\n  <tbody>\n    <tr>\n      <th>0</th>\n      <td>Respondent</td>\n      <td>Randomized respondent ID number (not in order ...</td>\n    </tr>\n    <tr>\n      <th>1</th>\n      <td>MainBranch</td>\n      <td>Which of the following options best describes ...</td>\n    </tr>\n    <tr>\n      <th>2</th>\n      <td>Hobbyist</td>\n      <td>Do you code as a hobby?</td>\n    </tr>\n    <tr>\n      <th>3</th>\n      <td>OpenSourcer</td>\n      <td>How often do you contribute to open source?</td>\n    </tr>\n    <tr>\n      <th>4</th>\n      <td>OpenSource</td>\n      <td>How do you feel about the quality of open sour...</td>\n    </tr>\n  </tbody>\n</table>\n</div>"
     },
     "metadata": {},
     "execution_count": 34
    }
   ],
   "source": [
    "# here the DataFrame as the index has integer numbers starting from 0\n",
    "schema_df.head()"
   ]
  },
  {
   "cell_type": "code",
   "execution_count": 35,
   "metadata": {},
   "outputs": [
    {
     "output_type": "execute_result",
     "data": {
      "text/plain": "                                                   QuestionText\nColumn                                                         \nRespondent    Randomized respondent ID number (not in order ...\nMainBranch    Which of the following options best describes ...\nHobbyist                                Do you code as a hobby?\nOpenSourcer         How often do you contribute to open source?\nOpenSource    How do you feel about the quality of open sour...\n...                                                         ...\nSexuality     Which of the following do you currently identi...\nEthnicity     Which of the following do you identify as? Ple...\nDependents    Do you have any dependents (e.g., children, el...\nSurveyLength  How do you feel about the length of the survey...\nSurveyEase    How easy or difficult was this survey to compl...\n\n[85 rows x 1 columns]",
      "text/html": "<div>\n<style scoped>\n    .dataframe tbody tr th:only-of-type {\n        vertical-align: middle;\n    }\n\n    .dataframe tbody tr th {\n        vertical-align: top;\n    }\n\n    .dataframe thead th {\n        text-align: right;\n    }\n</style>\n<table border=\"1\" class=\"dataframe\">\n  <thead>\n    <tr style=\"text-align: right;\">\n      <th></th>\n      <th>QuestionText</th>\n    </tr>\n    <tr>\n      <th>Column</th>\n      <th></th>\n    </tr>\n  </thead>\n  <tbody>\n    <tr>\n      <th>Respondent</th>\n      <td>Randomized respondent ID number (not in order ...</td>\n    </tr>\n    <tr>\n      <th>MainBranch</th>\n      <td>Which of the following options best describes ...</td>\n    </tr>\n    <tr>\n      <th>Hobbyist</th>\n      <td>Do you code as a hobby?</td>\n    </tr>\n    <tr>\n      <th>OpenSourcer</th>\n      <td>How often do you contribute to open source?</td>\n    </tr>\n    <tr>\n      <th>OpenSource</th>\n      <td>How do you feel about the quality of open sour...</td>\n    </tr>\n    <tr>\n      <th>...</th>\n      <td>...</td>\n    </tr>\n    <tr>\n      <th>Sexuality</th>\n      <td>Which of the following do you currently identi...</td>\n    </tr>\n    <tr>\n      <th>Ethnicity</th>\n      <td>Which of the following do you identify as? Ple...</td>\n    </tr>\n    <tr>\n      <th>Dependents</th>\n      <td>Do you have any dependents (e.g., children, el...</td>\n    </tr>\n    <tr>\n      <th>SurveyLength</th>\n      <td>How do you feel about the length of the survey...</td>\n    </tr>\n    <tr>\n      <th>SurveyEase</th>\n      <td>How easy or difficult was this survey to compl...</td>\n    </tr>\n  </tbody>\n</table>\n<p>85 rows × 1 columns</p>\n</div>"
     },
     "metadata": {},
     "execution_count": 35
    }
   ],
   "source": [
    "# we can change the index of the data frame from default number to any specific coulmn in a DataFrame\n",
    "# for ex. in DataFrame schema_df make the column \"Column\" as index column\n",
    "schema_df.set_index('Column')\n",
    "\n",
    "# but the above index is only changed for this cell and not affected in the original DataFrame\n",
    "# because Pandas does not make the change unless we give permission using \"inplace=True\""
   ]
  },
  {
   "cell_type": "code",
   "execution_count": 37,
   "metadata": {},
   "outputs": [],
   "source": [
    "# we use this parameter \"inplace=True\" to make the set_index as permanent\n",
    "schema_df.set_index('Column', inplace=True)\n",
    "\n",
    "# after this we cannot access the data frame with the numerical index for ex. schema_df.loc[0] will throw an error\n",
    "# where in the schema_df.iloc[0] using the integer location will perform the same operation\n"
   ]
  },
  {
   "cell_type": "code",
   "execution_count": 40,
   "metadata": {},
   "outputs": [],
   "source": [
    "# to reset the index we can use the \"reset_index()\" method with \"inplace=True\" parameter to reset the DataFrame index\n",
    "schema_df.reset_index(inplace=True)"
   ]
  },
  {
   "cell_type": "code",
   "execution_count": 41,
   "metadata": {},
   "outputs": [],
   "source": [
    "# to set the index_col when the data is loaded from the CSV file use the parameter \"index_col=<column_name>\"\n",
    "sr_df = pd.read_csv('C:\\\\Users\\\\sivkumar\\\\Documents\\\\Study Materials\\\\Data\\\\developer_survey_2019\\\\survey_results_public.csv', header='infer', sep=',', index_col='Respondent')\n",
    "\n",
    "schema_df = pd.read_csv('C:\\\\Users\\\\sivkumar\\\\Documents\\\\Study Materials\\\\Data\\\\developer_survey_2019\\\\survey_results_schema.csv', header='infer', sep=',', index_col='Column')"
   ]
  },
  {
   "cell_type": "code",
   "execution_count": 45,
   "metadata": {},
   "outputs": [
    {
     "output_type": "execute_result",
     "data": {
      "text/plain": "'How confident are you that your manager knows what they’re doing?'"
     },
     "metadata": {},
     "execution_count": 45
    }
   ],
   "source": [
    "# accessing the value of a cell using the new Index value in the loc and the column you want the data from\n",
    "schema_df.loc['MgrIdiot', 'QuestionText']"
   ]
  },
  {
   "cell_type": "code",
   "execution_count": 47,
   "metadata": {},
   "outputs": [
    {
     "output_type": "execute_result",
     "data": {
      "text/plain": "                                                    QuestionText\nColumn                                                          \nAge            What is your age (in years)? If you prefer not...\nAge1stCode     At what age did you write your first line of c...\nBetterLife     Do you think people born today will have a bet...\nBlockchainIs   Blockchain / cryptocurrency technology is prim...\nBlockchainOrg  How is your organization thinking about or imp...\n...                                                          ...\nWorkPlan                 How structured or planned is your work?\nWorkRemote                       How often do you work remotely?\nWorkWeekHrs     On average, how many hours per week do you work?\nYearsCode      Including any education, how many years have y...\nYearsCodePro   How many years have you coded professionally (...\n\n[85 rows x 1 columns]",
      "text/html": "<div>\n<style scoped>\n    .dataframe tbody tr th:only-of-type {\n        vertical-align: middle;\n    }\n\n    .dataframe tbody tr th {\n        vertical-align: top;\n    }\n\n    .dataframe thead th {\n        text-align: right;\n    }\n</style>\n<table border=\"1\" class=\"dataframe\">\n  <thead>\n    <tr style=\"text-align: right;\">\n      <th></th>\n      <th>QuestionText</th>\n    </tr>\n    <tr>\n      <th>Column</th>\n      <th></th>\n    </tr>\n  </thead>\n  <tbody>\n    <tr>\n      <th>Age</th>\n      <td>What is your age (in years)? If you prefer not...</td>\n    </tr>\n    <tr>\n      <th>Age1stCode</th>\n      <td>At what age did you write your first line of c...</td>\n    </tr>\n    <tr>\n      <th>BetterLife</th>\n      <td>Do you think people born today will have a bet...</td>\n    </tr>\n    <tr>\n      <th>BlockchainIs</th>\n      <td>Blockchain / cryptocurrency technology is prim...</td>\n    </tr>\n    <tr>\n      <th>BlockchainOrg</th>\n      <td>How is your organization thinking about or imp...</td>\n    </tr>\n    <tr>\n      <th>...</th>\n      <td>...</td>\n    </tr>\n    <tr>\n      <th>WorkPlan</th>\n      <td>How structured or planned is your work?</td>\n    </tr>\n    <tr>\n      <th>WorkRemote</th>\n      <td>How often do you work remotely?</td>\n    </tr>\n    <tr>\n      <th>WorkWeekHrs</th>\n      <td>On average, how many hours per week do you work?</td>\n    </tr>\n    <tr>\n      <th>YearsCode</th>\n      <td>Including any education, how many years have y...</td>\n    </tr>\n    <tr>\n      <th>YearsCodePro</th>\n      <td>How many years have you coded professionally (...</td>\n    </tr>\n  </tbody>\n</table>\n<p>85 rows × 1 columns</p>\n</div>"
     },
     "metadata": {},
     "execution_count": 47
    }
   ],
   "source": [
    "# sorting based on the Index value, ascending = \"ascending=True\"\n",
    "# decending = \"decending=True\"\n",
    "schema_df.sort_index(ascending=True)"
   ]
  },
  {
   "cell_type": "markdown",
   "metadata": {},
   "source": [
    "### Pandas : *** basics of filtering data in DataFrame ***\n",
    "\n",
    "***"
   ]
  },
  {
   "cell_type": "code",
   "execution_count": null,
   "metadata": {},
   "outputs": [],
   "source": []
  }
 ],
 "metadata": {
  "kernelspec": {
   "display_name": "Python 3.8.2 64-bit",
   "language": "python",
   "name": "python38264bited3c42d287ee46ceb2299cb3dea92aef"
  },
  "language_info": {
   "codemirror_mode": {
    "name": "ipython",
    "version": 3
   },
   "file_extension": ".py",
   "mimetype": "text/x-python",
   "name": "python",
   "nbconvert_exporter": "python",
   "pygments_lexer": "ipython3",
   "version": "3.8.2-final"
  }
 },
 "nbformat": 4,
 "nbformat_minor": 4
}