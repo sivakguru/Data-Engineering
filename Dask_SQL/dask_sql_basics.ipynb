{
 "metadata": {
  "language_info": {
   "codemirror_mode": {
    "name": "ipython",
    "version": 3
   },
   "file_extension": ".py",
   "mimetype": "text/x-python",
   "name": "python",
   "nbconvert_exporter": "python",
   "pygments_lexer": "ipython3",
   "version": "3.9.0-final"
  },
  "orig_nbformat": 2,
  "kernelspec": {
   "name": "python3",
   "display_name": "Python 3.9.0 64-bit",
   "metadata": {
    "interpreter": {
     "hash": "456a7bca7b7f08090ca64898a9580aecf8ccee74f1e5a323a82709711c275647"
    }
   }
  }
 },
 "nbformat": 4,
 "nbformat_minor": 2,
 "cells": [
  {
   "cell_type": "code",
   "execution_count": null,
   "metadata": {},
   "outputs": [],
   "source": [
    "from dask.distributed import Client , LocalCluster\n",
    "cluster = LocalCluster()\n",
    "cluster.adapt(minimum=1, maximum=3)\n",
    "client = Client(cluster)\n",
    "#cluster.scale(3)\n",
    "import dask.dataframe as dd\n",
    "import matplotlib\n",
    "from dask_sql import Context\n",
    "c = Context()\n",
    "\n",
    "#from dask_sql import run_server\n",
    "#run_server(context=c,client=client)"
   ]
  },
  {
   "cell_type": "code",
   "execution_count": null,
   "metadata": {},
   "outputs": [],
   "source": [
    "client"
   ]
  },
  {
   "cell_type": "code",
   "execution_count": null,
   "metadata": {},
   "outputs": [],
   "source": [
    "\n",
    "\n",
    "#from dask_sql import run_server\n",
    "#run_server(context=c)"
   ]
  },
  {
   "cell_type": "code",
   "execution_count": null,
   "metadata": {},
   "outputs": [],
   "source": [
    "#client.close()\n",
    "#cluster.close()\n",
    "df = dd.read_csv('C:/Users/sivkumar/Documents/Github Repositories/Sample Data/developer_survey_2020/survey_results_public.csv', dtype={'Age1stCode': 'object'})"
   ]
  },
  {
   "cell_type": "code",
   "execution_count": null,
   "metadata": {},
   "outputs": [],
   "source": [
    "df = df.repartition(npartitions=1)"
   ]
  },
  {
   "cell_type": "code",
   "execution_count": null,
   "metadata": {},
   "outputs": [],
   "source": [
    "df.to_parquet(r'C:\\Users\\sivkumar\\Documents\\Github Repositories\\Sample Data\\Parquet\\survey.parquet', compression='snappy')"
   ]
  },
  {
   "cell_type": "code",
   "execution_count": null,
   "metadata": {},
   "outputs": [],
   "source": [
    "df_pq = dd.read_parquet(r'C:\\Users\\sivkumar\\Documents\\Github Repositories\\Sample Data\\Parquet\\survey.parquet')"
   ]
  },
  {
   "cell_type": "code",
   "execution_count": null,
   "metadata": {},
   "outputs": [],
   "source": [
    "c.create_table(\"survey\", df)"
   ]
  },
  {
   "cell_type": "code",
   "execution_count": null,
   "metadata": {},
   "outputs": [],
   "source": [
    "c.sql('select Country, avg(Age) as avg_age from survey group by Country limit 10').compute().plot(kind='scatter', x='Country', y='avg_age')"
   ]
  },
  {
   "cell_type": "code",
   "execution_count": null,
   "metadata": {},
   "outputs": [],
   "source": [
    "df_pq.groupby(['Country']).Age.max().compute()"
   ]
  }
 ]
}